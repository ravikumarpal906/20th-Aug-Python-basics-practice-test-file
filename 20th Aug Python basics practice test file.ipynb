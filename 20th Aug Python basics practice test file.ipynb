{
 "cells": [
  {
   "cell_type": "markdown",
   "id": "b431c758-1780-4d2b-a80b-becb56ed27a3",
   "metadata": {},
   "source": [
    "# String Based Assignment Problem"
   ]
  },
  {
   "cell_type": "code",
   "execution_count": 3,
   "id": "27ae2611-e507-4a53-85f5-bf45534ce619",
   "metadata": {},
   "outputs": [
    {
     "name": "stdout",
     "output_type": "stream",
     "text": [
      "sllikswp\n"
     ]
    }
   ],
   "source": [
    "# 1. Write a program to reverse a string.\n",
    "\n",
    "s=\"pwskills\"\n",
    "\n",
    "rs=s[::-1] #reverse string\n",
    "\n",
    "print(rs) #display the reverse string"
   ]
  },
  {
   "cell_type": "code",
   "execution_count": 5,
   "id": "24ccffaf-c684-4ae9-987c-b7ee0ff65002",
   "metadata": {},
   "outputs": [
    {
     "name": "stdin",
     "output_type": "stream",
     "text": [
      "enter a string deddeadd\n"
     ]
    },
    {
     "name": "stdout",
     "output_type": "stream",
     "text": [
      "String is Not palindrome\n"
     ]
    }
   ],
   "source": [
    "# 2. Check if a string is a palindrome.\n",
    "\n",
    "s=input(\"enter a string\")\n",
    "reverse_str=s[::-1]\n",
    "if s==reverse_str :\n",
    "    print(\"String is palindrome\")\n",
    "else:\n",
    "    print(\"String is Not palindrome\")"
   ]
  },
  {
   "cell_type": "code",
   "execution_count": 8,
   "id": "f70551e5-2f20-441e-8a5c-dd809475642b",
   "metadata": {},
   "outputs": [
    {
     "name": "stdout",
     "output_type": "stream",
     "text": [
      "PWSKILLS\n"
     ]
    }
   ],
   "source": [
    "# 3. Convert a string to uppercase.\n",
    "\n",
    "s=\"pwskills\"\n",
    "upper_s=s.upper()\n",
    "print(upper_s)"
   ]
  },
  {
   "cell_type": "code",
   "execution_count": 9,
   "id": "cc84be3f-fa3a-499e-b1b2-f83e8f2804a2",
   "metadata": {},
   "outputs": [
    {
     "name": "stdout",
     "output_type": "stream",
     "text": [
      "pwskills\n"
     ]
    }
   ],
   "source": [
    "# 4. Convert a string to lowercase.\n",
    "\n",
    "s=\"PwSkills\"\n",
    "lower_s=s.lower()\n",
    "print(lower_s)"
   ]
  },
  {
   "cell_type": "code",
   "execution_count": 13,
   "id": "e7e0bef1-041f-4896-945a-6479ac6288b3",
   "metadata": {},
   "outputs": [
    {
     "name": "stdin",
     "output_type": "stream",
     "text": [
      "enter a string dfrwaa\n"
     ]
    },
    {
     "name": "stdout",
     "output_type": "stream",
     "text": [
      "number of vowel in string is 2\n"
     ]
    }
   ],
   "source": [
    "# 5. Count the number of vowels in a string.\n",
    "\n",
    "s=input(\"enter a string\")\n",
    "vowel=\"AEIOUaeiou\"\n",
    "count=0\n",
    "for char in s:\n",
    "    if char in vowel:\n",
    "        count+=1\n",
    "print(f\"number of vowel in string is {count}\")"
   ]
  },
  {
   "cell_type": "code",
   "execution_count": 16,
   "id": "ae0d90d0-0eb8-418a-bec8-45467108fb1a",
   "metadata": {},
   "outputs": [
    {
     "name": "stdin",
     "output_type": "stream",
     "text": [
      "enter a string pwskills\n"
     ]
    },
    {
     "name": "stdout",
     "output_type": "stream",
     "text": [
      "number of Consonant in string is 7\n"
     ]
    }
   ],
   "source": [
    "# 6. Count the number of consonants in a string.\n",
    "\n",
    "s=input(\"enter a string\")\n",
    "vowel=\"AEIOUaeiou\"\n",
    "count=0\n",
    "for char in s:\n",
    "    if char not in vowel:\n",
    "        count+=1\n",
    "print(f\"number of Consonant in string is {count}\")"
   ]
  },
  {
   "cell_type": "code",
   "execution_count": 17,
   "id": "98f7fef1-ef65-4dde-914a-50ffdfdaa4d6",
   "metadata": {},
   "outputs": [
    {
     "name": "stdin",
     "output_type": "stream",
     "text": [
      "enter the string ravi kumar pal\n"
     ]
    },
    {
     "name": "stdout",
     "output_type": "stream",
     "text": [
      "String after removing whitespace is ravikumarpal\n"
     ]
    }
   ],
   "source": [
    "# 7. Remove all whitespaces from a string.\n",
    "\n",
    "s=input(\"enter the string\")\n",
    "no_whitespace=s.replace(\" \",\"\")\n",
    "print(f\"String after removing whitespace is {no_whitespace}\")"
   ]
  },
  {
   "cell_type": "code",
   "execution_count": 18,
   "id": "cb348721-d5fc-4ab7-8253-58c6c5cbe1fc",
   "metadata": {},
   "outputs": [
    {
     "name": "stdin",
     "output_type": "stream",
     "text": [
      "enter the string ravi\n"
     ]
    },
    {
     "name": "stdout",
     "output_type": "stream",
     "text": [
      "length of string is 4\n"
     ]
    }
   ],
   "source": [
    "# 8. Find the length of a string without using the `len()` function.\n",
    "\n",
    "s=input(\"enter the string\")\n",
    "length=0\n",
    "for i in s:\n",
    "    length+=1\n",
    "print(f\"length of string is {length}\")"
   ]
  },
  {
   "cell_type": "code",
   "execution_count": 21,
   "id": "29a75e86-a439-486d-b780-8d0da9cc2ff5",
   "metadata": {},
   "outputs": [
    {
     "name": "stdin",
     "output_type": "stream",
     "text": [
      "enter a string ravi kumar pal\n",
      "enter specific word pal\n"
     ]
    },
    {
     "name": "stdout",
     "output_type": "stream",
     "text": [
      "ravi kumar pal is containing the specific word pal\n"
     ]
    }
   ],
   "source": [
    "# 9. Check if a string contains a specific word.\n",
    "\n",
    "s=input(\"enter a string\")\n",
    "specific_s=input(\"enter specific word\")\n",
    "if specific_s in s:\n",
    "    print(f\"{s} is containing the specific word {specific_s}\")"
   ]
  },
  {
   "cell_type": "code",
   "execution_count": 23,
   "id": "2bb9390e-5da0-4a00-ac1c-147dc103d6f7",
   "metadata": {},
   "outputs": [
    {
     "name": "stdin",
     "output_type": "stream",
     "text": [
      "enter a string this is my book\n",
      "enter the word to replace book\n",
      "enter replacement word pen\n"
     ]
    },
    {
     "name": "stdout",
     "output_type": "stream",
     "text": [
      "this is my pen\n"
     ]
    }
   ],
   "source": [
    "# 10. Replace a word in a string with another word.\n",
    "\n",
    "s=input(\"enter a string\")\n",
    "word_to_replace=input(\"enter the word to replace\")\n",
    "replacement_word=input(\"enter replacement word\")\n",
    "new_string=s.replace(word_to_replace,replacement_word)\n",
    "print(new_string)"
   ]
  },
  {
   "cell_type": "code",
   "execution_count": 24,
   "id": "93722546-0065-4303-9bc8-d2bd61bdb7c8",
   "metadata": {},
   "outputs": [
    {
     "name": "stdin",
     "output_type": "stream",
     "text": [
      "enter the string ravi pw skills pw ifh pw\n",
      "enter the word to count pw\n"
     ]
    },
    {
     "name": "stdout",
     "output_type": "stream",
     "text": [
      "The word 'pw' appears 3 times in the string.\n"
     ]
    }
   ],
   "source": [
    "# 11. Count the occurrences of a word in a string.\n",
    "\n",
    "s=input(\"enter the string\")\n",
    "word_to_count=input(\"enter the word to count\")\n",
    "count=s.lower().count(word_to_count.lower())\n",
    "print(f\"The word '{word_to_count}' appears {count} times in the string.\")"
   ]
  },
  {
   "cell_type": "code",
   "execution_count": 25,
   "id": "b3222093-6cf8-4ae1-9a31-e95ceab75283",
   "metadata": {},
   "outputs": [
    {
     "name": "stdin",
     "output_type": "stream",
     "text": [
      "Enter a string:  ravi kumar pal pw skills pw pw\n",
      "Enter the word to find:  pw\n"
     ]
    },
    {
     "name": "stdout",
     "output_type": "stream",
     "text": [
      "The word 'pw' first appears at index 15 in the string.\n"
     ]
    }
   ],
   "source": [
    "# 12. Find the first occurrence of a word in a string.\n",
    "\n",
    "input_string = input(\"Enter a string: \")\n",
    "\n",
    "# Specify the word to find\n",
    "word_to_find = input(\"Enter the word to find: \")\n",
    "\n",
    "# Use the find() method to find the first occurrence of the word\n",
    "index = input_string.lower().find(word_to_find.lower())\n",
    "\n",
    "# Check if the word was found\n",
    "if index != -1:\n",
    "    print(f\"The word '{word_to_find}' first appears at index {index} in the string.\")\n",
    "else:\n",
    "    print(f\"The word '{word_to_find}' was not found in the string.\")\n"
   ]
  },
  {
   "cell_type": "code",
   "execution_count": 28,
   "id": "302840d5-8b95-4e8a-bbfc-1dd850fbf219",
   "metadata": {},
   "outputs": [
    {
     "name": "stdin",
     "output_type": "stream",
     "text": [
      "Enter a string:  ravi kumar pal pw skills pw pw\n",
      "Enter the word to find:  pw\n"
     ]
    },
    {
     "name": "stdout",
     "output_type": "stream",
     "text": [
      "The word 'pw' last appears at index 28 in the string.\n"
     ]
    }
   ],
   "source": [
    "# 13. Find the last occurrence of a word in a string.\n",
    "\n",
    "input_string = input(\"Enter a string: \")\n",
    "\n",
    "# Specify the word to find\n",
    "word_to_find = input(\"Enter the word to find: \")\n",
    "\n",
    "# Use the rfind() method to find the last occurrence of the word\n",
    "index = input_string.lower().rfind(word_to_find.lower())\n",
    "\n",
    "# Check if the word was found\n",
    "if index != -1:\n",
    "    print(f\"The word '{word_to_find}' last appears at index {index} in the string.\")\n",
    "else:\n",
    "    print(f\"The word '{word_to_find}' was not found in the string.\")\n"
   ]
  },
  {
   "cell_type": "code",
   "execution_count": 29,
   "id": "479c9f4b-06b4-4a99-9738-359f49348c5d",
   "metadata": {},
   "outputs": [
    {
     "name": "stdin",
     "output_type": "stream",
     "text": [
      "Enter a string:  ravi kumar pal\n"
     ]
    },
    {
     "name": "stdout",
     "output_type": "stream",
     "text": [
      "List of words: ['ravi', 'kumar', 'pal']\n"
     ]
    }
   ],
   "source": [
    "# 14. Split a string into a list of words.\n",
    "\n",
    "# Input a string from the user\n",
    "input_string = input(\"Enter a string: \")\n",
    "\n",
    "# Use the split() method to split the string into words\n",
    "word_list = input_string.split()\n",
    "\n",
    "# Print the list of words\n",
    "print(\"List of words:\",word_list)"
   ]
  },
  {
   "cell_type": "code",
   "execution_count": 37,
   "id": "a742824c-6e90-42db-8da2-3b3370e91450",
   "metadata": {},
   "outputs": [
    {
     "name": "stdout",
     "output_type": "stream",
     "text": [
      "after join the list of word: ravi kumar pal\n"
     ]
    }
   ],
   "source": [
    "# 15. Join a list of words into a string.\n",
    "\n",
    "l=[\"ravi\",\"kumar\",\"pal\"]\n",
    "seperator=\" \"\n",
    "\n",
    "# Use the join() method to join the list of words into a string\n",
    "joined_string = seperator.join(l)\n",
    "print(\"after join the list of word:\",joined_string)"
   ]
  },
  {
   "cell_type": "code",
   "execution_count": 39,
   "id": "393db360-2b08-4968-961e-5ba14a61409b",
   "metadata": {},
   "outputs": [
    {
     "name": "stdin",
     "output_type": "stream",
     "text": [
      "enter the string ravi kumar pal\n"
     ]
    },
    {
     "name": "stdout",
     "output_type": "stream",
     "text": [
      "ravi kumar pal after replacing the space to underscore string become : ravi_kumar_pal\n"
     ]
    }
   ],
   "source": [
    "# 16. Convert a string where words are separated by spaces to one where words are separated by underscores.\n",
    "\n",
    "s=input('enter the string')\n",
    "\n",
    "# use the replace() method for replace the space by undercsores\n",
    "new_str=s.replace(\" \",\"_\")\n",
    "print(f\"{s} after replacing the space to underscore string become : {new_str}\")"
   ]
  },
  {
   "cell_type": "code",
   "execution_count": 41,
   "id": "952c886d-e6e2-43be-86f6-10207705a6d1",
   "metadata": {},
   "outputs": [
    {
     "name": "stdin",
     "output_type": "stream",
     "text": [
      "Enter a string:  ravi kumar pal\n",
      "Enter the word or phrase to check at the beginning:  ravi\n"
     ]
    },
    {
     "name": "stdout",
     "output_type": "stream",
     "text": [
      "The string starts with 'ravi'.\n"
     ]
    }
   ],
   "source": [
    "# 17. Check if a string starts with a specific word or phrase.\n",
    "\n",
    "input_string = input(\"Enter a string: \")\n",
    "\n",
    "# Specify the word or phrase to check for\n",
    "word_to_check = input(\"Enter the word or phrase to check at the beginning: \")\n",
    "\n",
    "# Use the startswith() method to check if the string starts with the specified word or phrase\n",
    "if input_string.startswith(word_to_check):\n",
    "    print(f\"The string starts with '{word_to_check}'.\")\n",
    "else:\n",
    "    print(f\"The string does not start with '{word_to_check}'.\")\n"
   ]
  },
  {
   "cell_type": "code",
   "execution_count": 45,
   "id": "55306125-cdc9-4d2b-86de-52069e874fbf",
   "metadata": {},
   "outputs": [
    {
     "name": "stdin",
     "output_type": "stream",
     "text": [
      "Enter a string:  ravi kumar pal\n",
      "Enter the word or phrase to check at the ending:  kumar\n"
     ]
    },
    {
     "name": "stdout",
     "output_type": "stream",
     "text": [
      "The ending does not end with 'kumar'.\n"
     ]
    }
   ],
   "source": [
    "# 18. Check if a string ends with a specific word or phrase.\n",
    "\n",
    "\n",
    "input_string = input(\"Enter a string: \")\n",
    "\n",
    "# Specify the word or phrase to check for\n",
    "word_to_check = input(\"Enter the word or phrase to check at the ending: \")\n",
    "\n",
    "# Use the endswith() method to check if the string ends with the specified word or phrase\n",
    "if input_string.endswith(word_to_check):\n",
    "    print(f\"The ending ends with '{word_to_check}'.\")\n",
    "else:\n",
    "    print(f\"The ending does not end with '{word_to_check}'.\")\n"
   ]
  },
  {
   "cell_type": "code",
   "execution_count": 46,
   "id": "85abb8e3-a9a9-4ff4-b07c-47a647e59041",
   "metadata": {},
   "outputs": [
    {
     "name": "stdin",
     "output_type": "stream",
     "text": [
      "enter a string hellow world\n"
     ]
    },
    {
     "name": "stdout",
     "output_type": "stream",
     "text": [
      "String in title case:  Hellow World\n"
     ]
    }
   ],
   "source": [
    "# 19. Convert a string to title case (e.g., \"hello world\" to \"Hello World\").\n",
    "\n",
    "input_string=input(\"enter a string\")\n",
    "\n",
    "title_case_string=input_string.title()\n",
    "\n",
    "print(\"String in title case: \",title_case_string)"
   ]
  },
  {
   "cell_type": "code",
   "execution_count": 50,
   "id": "eb174026-5610-4361-a3b7-30d56b9be744",
   "metadata": {},
   "outputs": [
    {
     "name": "stdin",
     "output_type": "stream",
     "text": [
      "enter a string ravi kumar pal\n"
     ]
    },
    {
     "name": "stdout",
     "output_type": "stream",
     "text": [
      " Lingest word in string is kumar\n"
     ]
    }
   ],
   "source": [
    "# 20. Find the longest word in a string.\n",
    "\n",
    "s=input(\"enter a string\")\n",
    "\n",
    "# convert the string into list of word\n",
    "words=s.split()\n",
    "\n",
    "# initialize the variable\n",
    "max_length=0\n",
    "longest_word=\"\"\n",
    "\n",
    "#finding the longest word\n",
    "for word in words:\n",
    "    if len(word)>max_length:\n",
    "        longest_word=word\n",
    "        max_length=len(word)\n",
    "        \n",
    "print(f\" Lingest word in string is {longest_word}\")"
   ]
  },
  {
   "cell_type": "code",
   "execution_count": 53,
   "id": "f1b29c9e-436e-4f9c-84b0-c944681c8b23",
   "metadata": {},
   "outputs": [
    {
     "name": "stdin",
     "output_type": "stream",
     "text": [
      "enter a string ravi kumatt jiej k\n"
     ]
    },
    {
     "name": "stdout",
     "output_type": "stream",
     "text": [
      "shortest word in string is k\n"
     ]
    }
   ],
   "source": [
    "# 21. Find the shortest word in a string.\n",
    "\n",
    "s=input(\"enter a string\")\n",
    "\n",
    "# convert the string into list of word\n",
    "words=s.split()\n",
    "\n",
    "# initialize the variable\n",
    "min_length=1000\n",
    "shortest_word=\"\"\n",
    "\n",
    "#finding the shortest word\n",
    "for word in words:\n",
    "    if len(word)<min_length:\n",
    "        shortest_word=word\n",
    "        min_length=len(word)\n",
    "        \n",
    "print(f\"shortest word in string is {shortest_word}\")"
   ]
  },
  {
   "cell_type": "code",
   "execution_count": 55,
   "id": "0294077b-f383-4350-a3ef-7673284f7c5c",
   "metadata": {},
   "outputs": [
    {
     "name": "stdin",
     "output_type": "stream",
     "text": [
      "Enter a string:  ravi kumar pal\n"
     ]
    },
    {
     "name": "stdout",
     "output_type": "stream",
     "text": [
      "String with reversed order of words:\n",
      "pal kumar ravi\n"
     ]
    }
   ],
   "source": [
    "# 22. Reverse the order of words in a string.\n",
    "\n",
    "s = input(\"Enter a string: \")\n",
    "\n",
    "# Split the string into words\n",
    "words = s.split()\n",
    "\n",
    "# Reverse the order of words\n",
    "reversed_words = words[::-1]\n",
    "\n",
    "# Join the reversed words back into a string\n",
    "reversed_string = \" \".join(reversed_words)\n",
    "\n",
    "# Print the string with the reversed order of words\n",
    "print(\"String with reversed order of words:\")\n",
    "print(reversed_string)\n"
   ]
  },
  {
   "cell_type": "code",
   "execution_count": 59,
   "id": "38c80d3b-78c6-4602-92a6-f4c2d9af7abf",
   "metadata": {},
   "outputs": [
    {
     "name": "stdin",
     "output_type": "stream",
     "text": [
      "Enter a string:  rfsfgh89\n"
     ]
    },
    {
     "name": "stdout",
     "output_type": "stream",
     "text": [
      "The string is alphanumeric.\n"
     ]
    }
   ],
   "source": [
    "# 23. Check if a string is alphanumeric.\n",
    "\n",
    "# Input a string from the user\n",
    "s = input(\"Enter a string: \")\n",
    "\n",
    "# Check if the string is alphanumeric\n",
    "if s.isalnum():\n",
    "    print(\"The string is alphanumeric.\")\n",
    "else:\n",
    "    print(\"The string is not alphanumeric.\")"
   ]
  },
  {
   "cell_type": "code",
   "execution_count": 60,
   "id": "20771afe-cc8a-42e2-b6ba-f4bb08f80972",
   "metadata": {},
   "outputs": [
    {
     "name": "stdin",
     "output_type": "stream",
     "text": [
      "Enter a string:  raftsdtye54848h8jk\n"
     ]
    },
    {
     "name": "stdout",
     "output_type": "stream",
     "text": [
      "Extracted digits: 548488\n"
     ]
    }
   ],
   "source": [
    "# 24. Extract all digits from a string.\n",
    "\n",
    "# Input a string from the user\n",
    "s= input(\"Enter a string: \")\n",
    "\n",
    "# Initialize an empty string to store the extracted digits\n",
    "extracted_digits = \"\"\n",
    "\n",
    "# Iterate through the characters of the string and extract digits\n",
    "for char in s:\n",
    "    if char.isdigit():\n",
    "        extracted_digits += char\n",
    "\n",
    "# Print the extracted digits\n",
    "print(\"Extracted digits:\", extracted_digits)\n"
   ]
  },
  {
   "cell_type": "code",
   "execution_count": 61,
   "id": "4af0f848-1df8-409c-93df-dfe576401d77",
   "metadata": {},
   "outputs": [
    {
     "name": "stdin",
     "output_type": "stream",
     "text": [
      "Enter a string:  ravijfhu7767\n"
     ]
    },
    {
     "name": "stdout",
     "output_type": "stream",
     "text": [
      "Extracted alphabets: ravijfhu\n"
     ]
    }
   ],
   "source": [
    "# 25. Extract all alphabets from a string.\n",
    "\n",
    "s = input(\"Enter a string: \")\n",
    "\n",
    "# Initialize an empty string to store the extracted alphabets\n",
    "extracted_alphabets = \"\"\n",
    "\n",
    "# Iterate through the characters of the string and extract alphabets\n",
    "for char in s:\n",
    "    if char.isalpha():\n",
    "        extracted_alphabets += char\n",
    "\n",
    "# Print the extracted alphabets\n",
    "print(\"Extracted alphabets:\", extracted_alphabets)\n"
   ]
  },
  {
   "cell_type": "code",
   "execution_count": 2,
   "id": "b8b28403-6024-4838-b874-6ba5b4c48837",
   "metadata": {},
   "outputs": [
    {
     "name": "stdout",
     "output_type": "stream",
     "text": [
      "number of uppercase letter in string is : 5\n"
     ]
    }
   ],
   "source": [
    "# 26. Count the number of uppercase letters in a string.\n",
    "def count_uppercase_letter(s):\n",
    "    count=0\n",
    "    for char in s:\n",
    "        if char.isupper():\n",
    "            count+=1\n",
    "    return count\n",
    "\n",
    "result = count_uppercase_letter(\"HELLo World\")\n",
    "print(\"number of uppercase letter in string is :\",result)"
   ]
  },
  {
   "cell_type": "code",
   "execution_count": 4,
   "id": "8a5ac10d-58d2-4a3a-bbb1-cba9764078e6",
   "metadata": {},
   "outputs": [
    {
     "name": "stdout",
     "output_type": "stream",
     "text": [
      "number of lowercase letter in string is : 7\n"
     ]
    }
   ],
   "source": [
    "# 27. Count the number of lowercase letters in a string.\n",
    "# 26. Count the number of uppercase letters in a string.\n",
    "def count_lowercase_letter(s):\n",
    "    count=0\n",
    "    for char in s:\n",
    "        if char.islower():\n",
    "            count+=1\n",
    "    return count\n",
    "\n",
    "result = count_lowercase_letter(\"HEllo World\")\n",
    "print(\"number of lowercase letter in string is :\",result)"
   ]
  },
  {
   "cell_type": "code",
   "execution_count": 6,
   "id": "717f5511-4c23-4eff-99b2-27e760ca950d",
   "metadata": {},
   "outputs": [
    {
     "name": "stdout",
     "output_type": "stream",
     "text": [
      "pW sKILLS\n"
     ]
    }
   ],
   "source": [
    "# 28. Swap the case of each character in a string.\n",
    "\n",
    "def swap_case(s):\n",
    "    swapped=\"\"\n",
    "    for i in s:\n",
    "        if i.isupper():\n",
    "            swapped+=i.lower()\n",
    "        elif i.islower():\n",
    "            swapped+=i.upper()\n",
    "        else:\n",
    "            swapped+=i\n",
    "    return swapped\n",
    "\n",
    "result = swap_case(\"Pw Skills\")\n",
    "print(result)"
   ]
  },
  {
   "cell_type": "code",
   "execution_count": 7,
   "id": "394f4036-0bc4-4242-92b4-f64a507fbb78",
   "metadata": {},
   "outputs": [
    {
     "name": "stdout",
     "output_type": "stream",
     "text": [
      "This is a sample sentence with a word to .\n"
     ]
    }
   ],
   "source": [
    "# 29. Remove a specific word from a string.\n",
    "def remove_word(s,word_to_remove):\n",
    "    return s.replace(word_to_remove,\"\")\n",
    "\n",
    "result =remove_word(\"This is a sample sentence with a word to remove.\",\"remove\")\n",
    "print(result)"
   ]
  },
  {
   "cell_type": "code",
   "execution_count": 10,
   "id": "0f49e9f2-cd11-406d-a030-24e38df414cd",
   "metadata": {},
   "outputs": [
    {
     "name": "stdout",
     "output_type": "stream",
     "text": [
      "example@email.com is a valid email address.\n"
     ]
    }
   ],
   "source": [
    "# 30. Check if a string is a valid email address.\n",
    "\n",
    "import re\n",
    "\n",
    "def is_valid_email(email):\n",
    "    pattern = r'^[a-zA-Z0-9._%+-]+@[a-zA-Z0-9.-]+\\.[a-zA-Z]{2,}$'\n",
    "    return bool(re.match(pattern, email))\n",
    "\n",
    "# Example usage:\n",
    "email = \"example@email.com\"\n",
    "if is_valid_email(email):\n",
    "    print(f\"{email} is a valid email address.\")\n",
    "else:\n",
    "    print(f\"{email} is not a valid email address.\")\n"
   ]
  },
  {
   "cell_type": "code",
   "execution_count": 11,
   "id": "d39697e0-6860-407c-9ad3-fc1494e24d3a",
   "metadata": {},
   "outputs": [
    {
     "name": "stdout",
     "output_type": "stream",
     "text": [
      "The username extracted from example@email.com is: example\n"
     ]
    }
   ],
   "source": [
    "# 31. Extract the username from an email address string.\n",
    "\n",
    "def extract_username(email):\n",
    "    # Split the email address at the \"@\" symbol\n",
    "    parts = email.split('@')\n",
    "    \n",
    "    # Check if there are exactly two parts (username and domain)\n",
    "    if len(parts) == 2:\n",
    "        return parts[0]  # The first part is the username\n",
    "    else:\n",
    "        return None  # Invalid email format\n",
    "\n",
    "# Example usage:\n",
    "email = \"example@email.com\"\n",
    "username = extract_username(email)\n",
    "\n",
    "if username is not None:\n",
    "    print(f\"The username extracted from {email} is: {username}\")\n",
    "else:\n",
    "    print(f\"{email} is not a valid email address.\")\n"
   ]
  },
  {
   "cell_type": "code",
   "execution_count": 12,
   "id": "d1c8ca88-c6b4-4537-811f-0338096455ab",
   "metadata": {},
   "outputs": [
    {
     "name": "stdout",
     "output_type": "stream",
     "text": [
      "The domain name extracted from example@email.com is: email.com\n"
     ]
    }
   ],
   "source": [
    "# 32. Extract the domain name from an email address string.\n",
    "\n",
    "def extract_domain(email):\n",
    "    # Split the email address at the \"@\" symbol\n",
    "    parts = email.split('@')\n",
    "    \n",
    "    # Check if there are exactly two parts (username and domain)\n",
    "    if len(parts) == 2:\n",
    "        return parts[1]  # The second part is the domain\n",
    "    else:\n",
    "        return None  # Invalid email format\n",
    "\n",
    "# Example usage:\n",
    "email = \"example@email.com\"\n",
    "domain = extract_domain(email)\n",
    "\n",
    "if domain is not None:\n",
    "    print(f\"The domain name extracted from {email} is: {domain}\")\n",
    "else:\n",
    "    print(f\"{email} is not a valid email address.\")\n"
   ]
  },
  {
   "cell_type": "code",
   "execution_count": 16,
   "id": "4ce5561b-e2d3-408b-a7c3-200d0d7cf27f",
   "metadata": {},
   "outputs": [
    {
     "name": "stdout",
     "output_type": "stream",
     "text": [
      "This is a string with multiple spaces.\n"
     ]
    }
   ],
   "source": [
    "# 33. Replace multiple spaces in a string with a single space.\n",
    "\n",
    "def replace_multiple_spaces(input_string):\n",
    "    words = input_string.split()  # Split the string by whitespace\n",
    "    return ' '.join(words)\n",
    "\n",
    "# Example usage:\n",
    "input_string = \"This   is   a   string   with   multiple   spaces.\"\n",
    "result = replace_multiple_spaces(input_string)\n",
    "print(result)\n"
   ]
  },
  {
   "cell_type": "code",
   "execution_count": 18,
   "id": "006c824e-cbb7-490a-84a9-9e28d33fc89d",
   "metadata": {},
   "outputs": [
    {
     "name": "stdout",
     "output_type": "stream",
     "text": [
      "https://www.example.com/page is a valid URL.\n"
     ]
    }
   ],
   "source": [
    "# 34. Check if a string is a valid URL.\n",
    "\n",
    "def is_valid_url(url):\n",
    "    # Define a list of valid URL schemes (protocols)\n",
    "    valid_schemes = [\"http\", \"https\", \"ftp\", \"ftps\"]\n",
    "    \n",
    "    # Split the URL into parts (scheme, netloc, path, etc.)\n",
    "    parts = url.split(\"://\")\n",
    "    \n",
    "    # Check if there are two parts (scheme and the rest)\n",
    "    if len(parts) == 2:\n",
    "        scheme, rest = parts\n",
    "        # Check if the scheme is valid\n",
    "        if scheme in valid_schemes:\n",
    "            # Split the rest of the URL into components\n",
    "            components = rest.split(\"/\")\n",
    "            # Check if there's at least a domain\n",
    "            if len(components) >= 1:\n",
    "                return True\n",
    "    return False\n",
    "\n",
    "# Example usage:\n",
    "url = \"https://www.example.com/page\"\n",
    "if is_valid_url(url):\n",
    "    print(f\"{url} is a valid URL.\")\n",
    "else:\n",
    "    print(f\"{url} is not a valid URL.\")\n"
   ]
  },
  {
   "cell_type": "code",
   "execution_count": 19,
   "id": "2d5c6b40-30ad-4ff6-8299-74da191064a3",
   "metadata": {},
   "outputs": [
    {
     "name": "stdout",
     "output_type": "stream",
     "text": [
      "The protocol extracted from https://www.example.com/page is: https\n"
     ]
    }
   ],
   "source": [
    "# 35.Extract the protocol (http or https) from a URL string.\n",
    "\n",
    "def extract_protocol(url):\n",
    "    # Split the URL into parts (scheme, netloc, path, etc.)\n",
    "    parts = url.split(\"://\")\n",
    "    \n",
    "    # Check if there are two parts (scheme and the rest)\n",
    "    if len(parts) == 2:\n",
    "        return parts[0]  # The first part is the protocol (scheme)\n",
    "    else:\n",
    "        return None  # Invalid URL format\n",
    "\n",
    "# Example usage:\n",
    "url = \"https://www.example.com/page\"\n",
    "protocol = extract_protocol(url)\n",
    "\n",
    "if protocol is not None:\n",
    "    print(f\"The protocol extracted from {url} is: {protocol}\")\n",
    "else:\n",
    "    print(f\"{url} is not a valid URL.\")\n"
   ]
  },
  {
   "cell_type": "code",
   "execution_count": 3,
   "id": "25ce45bf-e125-49e2-adcd-64b00f5ba25d",
   "metadata": {},
   "outputs": [
    {
     "name": "stdout",
     "output_type": "stream",
     "text": [
      "{'p': 1, 'w': 1, 's': 2, 'k': 1, 'i': 1, 'l': 2}\n"
     ]
    }
   ],
   "source": [
    "# 36. Find the frequency of each character in a string.\n",
    "\n",
    "def character_freq(s):\n",
    "    char_count={}\n",
    "    \n",
    "    for char in s:\n",
    "        if char in char_count.keys():\n",
    "            char_count[char]+=1\n",
    "        else:\n",
    "            char_count[char]=1\n",
    "    return char_count\n",
    "\n",
    "result=character_freq(\"pwskills\")\n",
    "print(result)"
   ]
  },
  {
   "cell_type": "code",
   "execution_count": 6,
   "id": "d3efb381-4eae-42f8-ba95-f95b0ba538b6",
   "metadata": {},
   "outputs": [
    {
     "name": "stdout",
     "output_type": "stream",
     "text": [
      "hello  world\n"
     ]
    }
   ],
   "source": [
    "# 37. Remove all punctuation from a string.\n",
    "\n",
    "import string\n",
    "\n",
    "def remove_punctuation(s):\n",
    "    punctuation_marks=string.punctuation\n",
    "    \n",
    "    result=\"\"\n",
    "    \n",
    "    for char in s:\n",
    "        if char not in punctuation_marks:\n",
    "            result+=char\n",
    "    return result\n",
    "\n",
    "result = remove_punctuation(\"hello!,  world!,,,\")\n",
    "print(result)"
   ]
  },
  {
   "cell_type": "code",
   "execution_count": 8,
   "id": "685b9dad-4bed-4f07-96cb-a80a8b6341e1",
   "metadata": {},
   "outputs": [
    {
     "name": "stdout",
     "output_type": "stream",
     "text": [
      "1234567 contains only digits.\n"
     ]
    }
   ],
   "source": [
    "# 38. Check if a string contains only digits.\n",
    "\n",
    "def contains_only_digits(s):\n",
    "    return s.isdigit()\n",
    "    \n",
    "s=\"1234567\"\n",
    "if contains_only_digits(s):\n",
    "    print(f\"{s} contains only digits.\")\n",
    "else:\n",
    "    print(f\"{s} does not contains only digits.\")"
   ]
  },
  {
   "cell_type": "code",
   "execution_count": 10,
   "id": "833b5c26-a74d-4697-9f62-fac2de79adc8",
   "metadata": {},
   "outputs": [
    {
     "name": "stdout",
     "output_type": "stream",
     "text": [
      "ravikumarpal contains only alphabets.\n"
     ]
    }
   ],
   "source": [
    "# 39. Check if a string contains only alphabets.\n",
    "\n",
    "def contains_only_alpha(s):\n",
    "    return s.isalpha()\n",
    "    \n",
    "s=\"ravikumarpal\"\n",
    "if contains_only_alpha(s):\n",
    "    print(f\"{s} contains only alphabets.\")\n",
    "else:\n",
    "    print(f\"{s} does not contains only alphabets.\")"
   ]
  },
  {
   "cell_type": "code",
   "execution_count": 11,
   "id": "a6f365bd-f813-456e-915d-02e43ea6e784",
   "metadata": {},
   "outputs": [
    {
     "name": "stdout",
     "output_type": "stream",
     "text": [
      "['H', 'e', 'l', 'l', 'o', ',', ' ', 'W', 'o', 'r', 'l', 'd', '!']\n"
     ]
    }
   ],
   "source": [
    "# 40. Convert a string to a list of characters.\n",
    "\n",
    "input_string = \"Hello, World!\"\n",
    "char_list = [char for char in input_string]\n",
    "print(char_list)"
   ]
  },
  {
   "cell_type": "code",
   "execution_count": 14,
   "id": "0803a877-f9cd-4e03-ab80-a0158223846e",
   "metadata": {},
   "outputs": [
    {
     "name": "stdout",
     "output_type": "stream",
     "text": [
      "Strings are anagrams\n"
     ]
    }
   ],
   "source": [
    "# 41. Check if two strings are anagrams.\n",
    "\n",
    "def are_anagrams(str1,str2):\n",
    "    \n",
    "    str1=str1.replace(\" \",\"\").lower()\n",
    "    str2=str2.replace(\" \",\"\").lower()\n",
    "    \n",
    "    if len(str1)!=len(str2):\n",
    "        return False\n",
    "    \n",
    "    char_count1={}\n",
    "    char_count2={}\n",
    "    \n",
    "    for char in str1:\n",
    "        if char in char_count1:\n",
    "            char_count1[char]+=1\n",
    "        else:\n",
    "            char_count1[char]=1\n",
    "            \n",
    "    for char in str2:\n",
    "        if char in char_count2:\n",
    "            char_count2+=1\n",
    "        else:\n",
    "            char_count2[char]=1\n",
    "    return char_count1==char_count2\n",
    "\n",
    "if are_anagrams(\"listen\",\"silent\"):\n",
    "    print(f\"Strings are anagrams\")\n",
    "else:\n",
    "    print(f\"String are not anagrams\")"
   ]
  },
  {
   "cell_type": "code",
   "execution_count": 1,
   "id": "fdd1d47f-e272-4fec-a99b-e0659c33677f",
   "metadata": {},
   "outputs": [
    {
     "name": "stdout",
     "output_type": "stream",
     "text": [
      "Encrypted: Khoor, Zruog!\n"
     ]
    }
   ],
   "source": [
    "# 42. Encode a string using a Caesar cipher.\n",
    "\n",
    "def caesar_cipher_encrypt(text, shift):\n",
    "    encrypted_text = \"\"\n",
    "    for char in text:\n",
    "        if char.isalpha():\n",
    "            # Determine if the character is uppercase or lowercase\n",
    "            if char.isupper():\n",
    "                start = ord('A')\n",
    "            else:\n",
    "                start = ord('a')\n",
    "\n",
    "            # Apply the Caesar cipher shift\n",
    "            encrypted_char = chr((ord(char) - start + shift) % 26 + start)\n",
    "            encrypted_text += encrypted_char\n",
    "        else:\n",
    "            # If the character is not a letter, keep it unchanged\n",
    "            encrypted_text += char\n",
    "\n",
    "    return encrypted_text\n",
    "\n",
    "# Example usage:\n",
    "plaintext = \"Hello, World!\"\n",
    "shift_value = 3\n",
    "encrypted_text = caesar_cipher_encrypt(plaintext, shift_value)\n",
    "print(\"Encrypted:\", encrypted_text)"
   ]
  },
  {
   "cell_type": "code",
   "execution_count": 2,
   "id": "b6dc4809-4496-4fac-8ada-19054649f6c7",
   "metadata": {},
   "outputs": [
    {
     "name": "stdout",
     "output_type": "stream",
     "text": [
      "Decrypted: Hello, World!\n"
     ]
    }
   ],
   "source": [
    "# 43. Decode a Caesar cipher encoded string.\n",
    "\n",
    "def caesar_cipher_decrypt(encrypted_text, shift):\n",
    "    decrypted_text = \"\"\n",
    "    for char in encrypted_text:\n",
    "        if char.isalpha():\n",
    "            # Determine if the character is uppercase or lowercase\n",
    "            if char.isupper():\n",
    "                start = ord('A')\n",
    "            else:\n",
    "                start = ord('a')\n",
    "\n",
    "            # Apply the Caesar cipher shift in reverse\n",
    "            decrypted_char = chr((ord(char) - start - shift) % 26 + start)\n",
    "            decrypted_text += decrypted_char\n",
    "        else:\n",
    "            # If the character is not a letter, keep it unchanged\n",
    "            decrypted_text += char\n",
    "\n",
    "    return decrypted_text\n",
    "\n",
    "# Example usage:\n",
    "encrypted_text = \"Khoor, Zruog!\"\n",
    "shift_value = 3\n",
    "decrypted_text = caesar_cipher_decrypt(encrypted_text, shift_value)\n",
    "print(\"Decrypted:\", decrypted_text)\n"
   ]
  },
  {
   "cell_type": "code",
   "execution_count": 3,
   "id": "035650b8-bfea-45f0-bfbb-d500d3760223",
   "metadata": {},
   "outputs": [
    {
     "name": "stdout",
     "output_type": "stream",
     "text": [
      "The most frequent word is: this\n"
     ]
    }
   ],
   "source": [
    "# 44. Find the most frequent word in a string.\n",
    "\n",
    "def most_frequent_word(input_string):\n",
    "    # Remove punctuation and convert the string to lowercase\n",
    "    cleaned_string = \"\".join(char.lower() if char.isalnum() or char.isspace() else ' ' for char in input_string)\n",
    "\n",
    "    # Split the cleaned string into words\n",
    "    words = cleaned_string.split()\n",
    "\n",
    "    # Create a dictionary to store word frequencies\n",
    "    word_freq = {}\n",
    "\n",
    "    # Count the frequency of each word\n",
    "    for word in words:\n",
    "        if word in word_freq:\n",
    "            word_freq[word] += 1\n",
    "        else:\n",
    "            word_freq[word] = 1\n",
    "\n",
    "    # Find the word with the highest frequency\n",
    "    most_frequent = max(word_freq, key=word_freq.get)\n",
    "\n",
    "    return most_frequent\n",
    "\n",
    "# Example usage:\n",
    "input_string = \"This is a test. This is only a test, my friend.\"\n",
    "result = most_frequent_word(input_string)\n",
    "print(f\"The most frequent word is: {result}\")\n"
   ]
  },
  {
   "cell_type": "code",
   "execution_count": 4,
   "id": "6130e5bd-410b-42d1-a6d9-395a3251f182",
   "metadata": {},
   "outputs": [
    {
     "name": "stdout",
     "output_type": "stream",
     "text": [
      "Unique words: {'friend', 'a', 'my', 'this', 'only', 'test', 'is'}\n"
     ]
    }
   ],
   "source": [
    "# 45. Find all unique words in a string.\n",
    "\n",
    "def unique_words(input_string):\n",
    "    # Remove punctuation and convert the string to lowercase\n",
    "    cleaned_string = \"\".join(char.lower() if char.isalnum() or char.isspace() else ' ' for char in input_string)\n",
    "\n",
    "    # Split the cleaned string into words\n",
    "    words = cleaned_string.split()\n",
    "\n",
    "    # Use a set to store unique words\n",
    "    unique_word_set = set()\n",
    "\n",
    "    # Add each word to the set\n",
    "    for word in words:\n",
    "        unique_word_set.add(word)\n",
    "\n",
    "    return unique_word_set\n",
    "\n",
    "# Example usage:\n",
    "input_string = \"This is a test. This is only a test, my friend.\"\n",
    "result = unique_words(input_string)\n",
    "print(\"Unique words:\", result)\n"
   ]
  },
  {
   "cell_type": "code",
   "execution_count": 5,
   "id": "35a4784d-6321-44db-ab01-1857402f7f3c",
   "metadata": {},
   "outputs": [
    {
     "name": "stdout",
     "output_type": "stream",
     "text": [
      "Number of syllables: 11\n"
     ]
    }
   ],
   "source": [
    "# 46. Count the number of syllables in a string.\n",
    "\n",
    "def count_syllables(input_string):\n",
    "    # Remove punctuation and convert the string to lowercase\n",
    "    cleaned_string = \"\".join(char.lower() if char.isalnum() or char.isspace() else ' ' for char in input_string)\n",
    "    \n",
    "    # Split the cleaned string into words\n",
    "    words = cleaned_string.split()\n",
    "\n",
    "    # Define a list of common prefixes and suffixes that might affect syllable count\n",
    "    prefixes = ['re', 'un', 'pre', 'dis', 'mis', 'over', 'under', 'sub', 'trans', 'super']\n",
    "    suffixes = ['ing', 'ed', 'es', 'tion', 'sion', 'er', 'ly', 'ment', 'less']\n",
    "\n",
    "    syllable_count = 0\n",
    "\n",
    "    for word in words:\n",
    "        # Initialize a variable to keep track of the number of vowels\n",
    "        vowel_count = 0\n",
    "\n",
    "        # Handle cases where common prefixes or suffixes affect syllable count\n",
    "        for prefix in prefixes:\n",
    "            if word.startswith(prefix):\n",
    "                word = word[len(prefix):]\n",
    "                break\n",
    "\n",
    "        for suffix in suffixes:\n",
    "            if word.endswith(suffix):\n",
    "                word = word[:-len(suffix)]\n",
    "                break\n",
    "\n",
    "        # Count vowels (a, e, i, o, u) in the word\n",
    "        for char in word:\n",
    "            if char in 'aeiouy':\n",
    "                vowel_count += 1\n",
    "\n",
    "        # Each word is assumed to have at least one syllable\n",
    "        if vowel_count == 0:\n",
    "            vowel_count = 1\n",
    "\n",
    "        # Add the vowel count to the total syllable count\n",
    "        syllable_count += vowel_count\n",
    "\n",
    "    return syllable_count\n",
    "\n",
    "# Example usage:\n",
    "input_string = \"The quick brown fox jumped over the lazy dog.\"\n",
    "syllables = count_syllables(input_string)\n",
    "print(f\"Number of syllables: {syllables}\")\n"
   ]
  },
  {
   "cell_type": "code",
   "execution_count": 6,
   "id": "0b099a8d-71b3-4a1d-b740-76a86a3423ac",
   "metadata": {},
   "outputs": [
    {
     "name": "stdout",
     "output_type": "stream",
     "text": [
      "Hello, World! contains special characters.\n"
     ]
    }
   ],
   "source": [
    "# 47. Check if a string contains any special characters.\n",
    "\n",
    "import re\n",
    "\n",
    "def contains_special_characters(input_string):\n",
    "    # Define a regular expression pattern to match special characters\n",
    "    pattern = r'[!@#$%^&*()_+{}\\[\\]:;<>,.?~\\\\|\\/\"\\'=-]'\n",
    "\n",
    "    # Use the re.search() function to find a match\n",
    "    match = re.search(pattern, input_string)\n",
    "\n",
    "    return match is not None\n",
    "\n",
    "# Example usage:\n",
    "input_string = \"Hello, World!\"\n",
    "if contains_special_characters(input_string):\n",
    "    print(f\"{input_string} contains special characters.\")\n",
    "else:\n",
    "    print(f\"{input_string} does not contain special characters.\")\n"
   ]
  },
  {
   "cell_type": "code",
   "execution_count": 7,
   "id": "087cc388-78ea-451d-9927-187d504ce8af",
   "metadata": {},
   "outputs": [
    {
     "name": "stdout",
     "output_type": "stream",
     "text": [
      "This is sample sentence.\n"
     ]
    }
   ],
   "source": [
    "# 48. Remove the nth word from a string.\n",
    "\n",
    "def remove_nth_word(input_string, n):\n",
    "    # Split the string into words\n",
    "    words = input_string.split()\n",
    "\n",
    "    # Check if the specified position is valid\n",
    "    if n >= 1 and n <= len(words):\n",
    "        # Remove the nth word by slicing the list\n",
    "        del words[n - 1]\n",
    "\n",
    "        # Join the remaining words back together\n",
    "        result_string = ' '.join(words)\n",
    "\n",
    "        return result_string\n",
    "    else:\n",
    "        # Return the original string if the position is invalid\n",
    "        return input_string\n",
    "\n",
    "# Example usage:\n",
    "input_string = \"This is a sample sentence.\"\n",
    "n = 3\n",
    "result = remove_nth_word(input_string, n)\n",
    "print(result)\n"
   ]
  },
  {
   "cell_type": "code",
   "execution_count": 8,
   "id": "fb5ff55e-100d-4ed4-bcf3-aafc750eba2e",
   "metadata": {},
   "outputs": [
    {
     "name": "stdout",
     "output_type": "stream",
     "text": [
      "This is new a sample sentence.\n"
     ]
    }
   ],
   "source": [
    "# 49. Insert a word at the nth position in a string.\n",
    "\n",
    "def insert_word_at_nth_position(input_string, word_to_insert, n):\n",
    "    # Split the string into words\n",
    "    words = input_string.split()\n",
    "\n",
    "    # Check if the specified position is valid\n",
    "    if n >= 0 and n <= len(words):\n",
    "        # Insert the new word at the nth position\n",
    "        words.insert(n, word_to_insert)\n",
    "\n",
    "        # Join the words back together\n",
    "        result_string = ' '.join(words)\n",
    "\n",
    "        return result_string\n",
    "    else:\n",
    "        # If the position is invalid, return the original string\n",
    "        return input_string\n",
    "\n",
    "# Example usage:\n",
    "input_string = \"This is a sample sentence.\"\n",
    "word_to_insert = \"new\"\n",
    "n = 2\n",
    "result = insert_word_at_nth_position(input_string, word_to_insert, n)\n",
    "print(result)\n"
   ]
  },
  {
   "cell_type": "code",
   "execution_count": 9,
   "id": "0e685a37-ccb3-4d89-a1ba-bb2ddbd45fde",
   "metadata": {},
   "outputs": [
    {
     "name": "stdout",
     "output_type": "stream",
     "text": [
      "['John', 'Doe', '30']\n",
      "['Jane', 'Smith', '25']\n",
      "['Bob', 'Johnson', '40']\n"
     ]
    }
   ],
   "source": [
    "# 50. Convert a CSV string to a list of lists.\n",
    "\n",
    "import csv\n",
    "from io import StringIO\n",
    "\n",
    "def csv_string_to_list(csv_string):\n",
    "    # Use StringIO to create a file-like object from the CSV string\n",
    "    csv_file = StringIO(csv_string)\n",
    "\n",
    "    # Initialize a CSV reader\n",
    "    reader = csv.reader(csv_file)\n",
    "\n",
    "    # Convert the CSV data into a list of lists\n",
    "    data = [row for row in reader]\n",
    "\n",
    "    return data\n",
    "\n",
    "# Example usage:\n",
    "csv_string = \"John,Doe,30\\nJane,Smith,25\\nBob,Johnson,40\"\n",
    "csv_list = csv_string_to_list(csv_string)\n",
    "for row in csv_list:\n",
    "    print(row)"
   ]
  },
  {
   "cell_type": "markdown",
   "id": "0f23383a-765d-4130-9b65-1781bd36ed5f",
   "metadata": {},
   "source": [
    "# List Based Practice Problem:"
   ]
  },
  {
   "cell_type": "code",
   "execution_count": 2,
   "id": "70d58b71-5ae4-43e7-82da-89872cb539c6",
   "metadata": {},
   "outputs": [
    {
     "data": {
      "text/plain": [
       "[1, 2, 3, 4, 5, 6, 7, 8, 9, 10]"
      ]
     },
     "execution_count": 2,
     "metadata": {},
     "output_type": "execute_result"
    }
   ],
   "source": [
    "# 1. Create a list with integers from 1 to 10.\n",
    "\n",
    "l=[i for i in range(1,11)]\n",
    "l"
   ]
  },
  {
   "cell_type": "code",
   "execution_count": 3,
   "id": "2277598c-6703-44e1-8fc2-20d4de9b4e7f",
   "metadata": {},
   "outputs": [
    {
     "name": "stdout",
     "output_type": "stream",
     "text": [
      "Length of the list: 5\n"
     ]
    }
   ],
   "source": [
    "# 2. Find the length of a list without using the `len()` function.\n",
    "\n",
    "def find_length_of_list(my_list):\n",
    "    count = 0\n",
    "    for _ in my_list:\n",
    "        count += 1\n",
    "    return count\n",
    "\n",
    "my_list = [1, 2, 3, 4, 5]\n",
    "length = find_length_of_list(my_list)\n",
    "print(\"Length of the list:\", length)"
   ]
  },
  {
   "cell_type": "code",
   "execution_count": 4,
   "id": "464c0e23-7ffc-4d0b-900b-7f751b6b3a7a",
   "metadata": {},
   "outputs": [
    {
     "name": "stdout",
     "output_type": "stream",
     "text": [
      "[1, 2, 3, 4, 5, 6]\n"
     ]
    }
   ],
   "source": [
    "# 3. Append an element to the end of a list.\n",
    "\n",
    "my_list = [1, 2, 3, 4, 5]  # Example list\n",
    "\n",
    "# Append an element to the end of the list\n",
    "my_list.append(6)\n",
    "\n",
    "print(my_list)  # Output: [1, 2, 3, 4, 5, 6]"
   ]
  },
  {
   "cell_type": "code",
   "execution_count": 5,
   "id": "675df426-2583-4574-85e5-d669b354cc88",
   "metadata": {},
   "outputs": [
    {
     "name": "stdout",
     "output_type": "stream",
     "text": [
      "[1, 2, 6, 3, 4, 5]\n"
     ]
    }
   ],
   "source": [
    "# 4. Insert an element at a specific index in a list.\n",
    "\n",
    "my_list = [1, 2, 3, 4, 5]  # Example list\n",
    "\n",
    "# Insert an element (e.g., 6) at index 2\n",
    "my_list.insert(2, 6)\n",
    "\n",
    "print(my_list)  # Output: [1, 2, 6, 3, 4, 5]"
   ]
  },
  {
   "cell_type": "code",
   "execution_count": 6,
   "id": "6411de11-8740-4a05-af75-c6e456ebe6cb",
   "metadata": {},
   "outputs": [
    {
     "name": "stdout",
     "output_type": "stream",
     "text": [
      "[1, 2, 4, 5, 3]\n"
     ]
    }
   ],
   "source": [
    "# 5. Remove an element from a list by its value.\n",
    "\n",
    "my_list = [1, 2, 3, 4, 5, 3]  # Example list\n",
    "\n",
    "# Remove the element with value 3\n",
    "my_list.remove(3)\n",
    "\n",
    "print(my_list)  # Output: [1, 2, 4, 5]"
   ]
  },
  {
   "cell_type": "code",
   "execution_count": 7,
   "id": "920ac7c2-239c-42ec-b9b4-50a82a8f0fe3",
   "metadata": {},
   "outputs": [
    {
     "name": "stdout",
     "output_type": "stream",
     "text": [
      "Removed Element: 3\n",
      "Updated List: [1, 2, 4, 5]\n"
     ]
    }
   ],
   "source": [
    "# 6. Remove an element from a list by its index.\n",
    "\n",
    "my_list = [1, 2, 3, 4, 5]  # Example list\n",
    "\n",
    "# Remove the element at index 2\n",
    "removed_element = my_list.pop(2)\n",
    "\n",
    "print(\"Removed Element:\", removed_element)\n",
    "print(\"Updated List:\", my_list)"
   ]
  },
  {
   "cell_type": "code",
   "execution_count": 8,
   "id": "a4ee1bee-9303-473d-bab5-f3e60f761c4d",
   "metadata": {},
   "outputs": [
    {
     "name": "stdout",
     "output_type": "stream",
     "text": [
      "Element 3 exists in the list.\n"
     ]
    }
   ],
   "source": [
    "# 7. Check if an element exists in a list.\n",
    "\n",
    "my_list = [1, 2, 3, 4, 5]  # Example list\n",
    "\n",
    "# Check if element 3 exists in the list\n",
    "if 3 in my_list:\n",
    "    print(\"Element 3 exists in the list.\")\n",
    "else:\n",
    "    print(\"Element 3 does not exist in the list.\")"
   ]
  },
  {
   "cell_type": "code",
   "execution_count": 9,
   "id": "7118352e-786b-4cea-b211-fd49cf0e44d3",
   "metadata": {},
   "outputs": [
    {
     "name": "stdout",
     "output_type": "stream",
     "text": [
      "Index of the first occurrence of 3: 2\n"
     ]
    }
   ],
   "source": [
    "# 8. Find the index of the first occurrence of an element in a list.\n",
    "\n",
    "my_list = [1, 2, 3, 4, 5, 3]  # Example list\n",
    "\n",
    "# Find the index of the first occurrence of the element 3\n",
    "element_to_find = 3\n",
    "index = my_list.index(element_to_find)\n",
    "\n",
    "print(f\"Index of the first occurrence of {element_to_find}: {index}\")"
   ]
  },
  {
   "cell_type": "code",
   "execution_count": 10,
   "id": "c251adfb-0ca2-4c22-b44d-ef555b654c28",
   "metadata": {},
   "outputs": [
    {
     "name": "stdout",
     "output_type": "stream",
     "text": [
      "Occurrences of 3 in the list: 3\n"
     ]
    }
   ],
   "source": [
    "# 9. Count the occurrences of an element in a list.\n",
    "\n",
    "my_list = [1, 2, 3, 4, 5, 3, 3]  # Example list\n",
    "\n",
    "# Count the occurrences of the element 3\n",
    "element_to_count = 3\n",
    "count = my_list.count(element_to_count)\n",
    "\n",
    "print(f\"Occurrences of {element_to_count} in the list: {count}\")"
   ]
  },
  {
   "cell_type": "code",
   "execution_count": 11,
   "id": "74a24f06-bb3e-4bda-9fb8-3d29e02c3712",
   "metadata": {},
   "outputs": [
    {
     "name": "stdout",
     "output_type": "stream",
     "text": [
      "[5, 4, 3, 2, 1]\n"
     ]
    }
   ],
   "source": [
    "# 10. Reverse the order of elements in a list.\n",
    "\n",
    "my_list = [1, 2, 3, 4, 5]  # Example list\n",
    "\n",
    "# Reverse the order of elements using slicing\n",
    "my_list = my_list[::-1]\n",
    "\n",
    "print(my_list)  # Output: [5, 4, 3, 2, 1]"
   ]
  },
  {
   "cell_type": "code",
   "execution_count": 12,
   "id": "dac83ab6-6f1b-4c33-a012-0c106b66ebc1",
   "metadata": {},
   "outputs": [
    {
     "name": "stdout",
     "output_type": "stream",
     "text": [
      "[1, 2, 5, 6, 9]\n"
     ]
    }
   ],
   "source": [
    "# 11. Sort a list in ascending order.\n",
    "\n",
    "my_list = [5, 2, 9, 1, 6]  # Example list\n",
    "\n",
    "# Sort the list in ascending order using the sort() method\n",
    "my_list.sort()\n",
    "\n",
    "print(my_list)  # Output: [1, 2, 5, 6, 9]"
   ]
  },
  {
   "cell_type": "code",
   "execution_count": 13,
   "id": "175eb853-52d1-4158-a45c-410ef3fc19c0",
   "metadata": {},
   "outputs": [
    {
     "name": "stdout",
     "output_type": "stream",
     "text": [
      "[9, 6, 5, 2, 1]\n"
     ]
    }
   ],
   "source": [
    "# 12. Sort a list in descending order.\n",
    "\n",
    "my_list = [5, 2, 9, 1, 6]  # Example list\n",
    "\n",
    "# Sort the list in descending order using the sort() method\n",
    "my_list.sort(reverse=True)\n",
    "\n",
    "print(my_list)  # Output: [9, 6, 5, 2, 1]"
   ]
  },
  {
   "cell_type": "code",
   "execution_count": 14,
   "id": "7540fe18-1f10-436b-89d9-ae1f7c3da8e0",
   "metadata": {},
   "outputs": [
    {
     "name": "stdout",
     "output_type": "stream",
     "text": [
      "[2, 4, 6, 8, 10, 12, 14, 16, 18, 20]\n"
     ]
    }
   ],
   "source": [
    "# 13. Create a list of even numbers from 1 to 20.\n",
    "\n",
    "# Create a list of even numbers from 1 to 20 using list comprehension\n",
    "even_numbers = [x for x in range(1, 21) if x % 2 == 0]\n",
    "\n",
    "print(even_numbers)"
   ]
  },
  {
   "cell_type": "code",
   "execution_count": 16,
   "id": "86d7ae05-9221-48e3-a2fb-f27fbafde734",
   "metadata": {},
   "outputs": [
    {
     "name": "stdout",
     "output_type": "stream",
     "text": [
      "[1, 3, 5, 7, 9, 11, 13, 15, 17, 19]\n"
     ]
    }
   ],
   "source": [
    "# 14. Create a list of odd numbers from 1 to 20.\n",
    "\n",
    "# Create a list of odd numbers from 1 to 20 using list comprehension\n",
    "odd_numbers = [x for x in range(1, 21) if x % 2 != 0]\n",
    "\n",
    "print(odd_numbers)"
   ]
  },
  {
   "cell_type": "code",
   "execution_count": 17,
   "id": "a4d7ed82-dd35-44e9-aa4b-020c861da3e2",
   "metadata": {},
   "outputs": [
    {
     "name": "stdout",
     "output_type": "stream",
     "text": [
      "15\n"
     ]
    }
   ],
   "source": [
    "# 15. Find the sum of all elements in a list.\n",
    "\n",
    "my_list = [1, 2, 3, 4, 5]  # Example list\n",
    "\n",
    "# Find the sum of all elements in the list using the sum() function\n",
    "total_sum = sum(my_list)\n",
    "\n",
    "print(total_sum)"
   ]
  },
  {
   "cell_type": "code",
   "execution_count": 18,
   "id": "34757cb5-373e-4025-abc6-ce16c0c07807",
   "metadata": {},
   "outputs": [
    {
     "name": "stdout",
     "output_type": "stream",
     "text": [
      "9\n"
     ]
    }
   ],
   "source": [
    "# 16. Find the maximum value in a list.\n",
    "\n",
    "my_list = [3, 8, 1, 9, 4]  # Example list\n",
    "\n",
    "# Find the maximum value in the list using the max() function\n",
    "max_value = max(my_list)\n",
    "\n",
    "print(max_value)"
   ]
  },
  {
   "cell_type": "code",
   "execution_count": 19,
   "id": "c1c8b3b2-44d4-4787-97ed-82424797e2f3",
   "metadata": {},
   "outputs": [
    {
     "name": "stdout",
     "output_type": "stream",
     "text": [
      "1\n"
     ]
    }
   ],
   "source": [
    "# 17. Find the minimum value in a list.\n",
    "\n",
    "my_list = [3, 8, 1, 9, 4]  # Example list\n",
    "\n",
    "# Find the munimum value in the list using the max() function\n",
    "min_value = min(my_list)\n",
    "\n",
    "print(min_value)"
   ]
  },
  {
   "cell_type": "code",
   "execution_count": 20,
   "id": "3f3d311c-0f7a-4cc9-a48d-1359c5cec555",
   "metadata": {},
   "outputs": [
    {
     "data": {
      "text/plain": [
       "[1, 4, 9, 16, 25, 36, 49, 64, 81, 100]"
      ]
     },
     "execution_count": 20,
     "metadata": {},
     "output_type": "execute_result"
    }
   ],
   "source": [
    "# 18. Create a list of squares of numbers from 1 to 10.\n",
    "\n",
    "my_list=[i**2 for i in range(1,11)]\n",
    "my_list"
   ]
  },
  {
   "cell_type": "code",
   "execution_count": 21,
   "id": "da939a45-849e-4a35-a21d-13410e0bf1b7",
   "metadata": {},
   "outputs": [
    {
     "name": "stdout",
     "output_type": "stream",
     "text": [
      "[98, 99, 11, 74, 97, 82, 5, 94, 44, 1]\n"
     ]
    }
   ],
   "source": [
    "# 19. Create a list of random numbers.\n",
    "\n",
    "import random\n",
    "\n",
    "# Create a list of 10 random numbers between 1 and 100\n",
    "random_numbers = [random.randint(1, 100) for _ in range(10)]\n",
    "\n",
    "print(random_numbers)"
   ]
  },
  {
   "cell_type": "code",
   "execution_count": 22,
   "id": "8142c08c-dd87-407e-ad98-c519c0747698",
   "metadata": {},
   "outputs": [
    {
     "name": "stdout",
     "output_type": "stream",
     "text": [
      "[1, 2, 3, 4, 5]\n"
     ]
    }
   ],
   "source": [
    "# 20. Remove duplicates from a list.\n",
    "\n",
    "my_list = [1, 2, 2, 3, 4, 4, 5]  # Example list with duplicates\n",
    "\n",
    "# Remove duplicates while preserving the original order\n",
    "unique_list = []\n",
    "for item in my_list:\n",
    "    if item not in unique_list:\n",
    "        unique_list.append(item)\n",
    "\n",
    "print(unique_list)"
   ]
  },
  {
   "cell_type": "code",
   "execution_count": 23,
   "id": "09ea563d-f227-41a2-8728-6f2ddb742311",
   "metadata": {},
   "outputs": [
    {
     "name": "stdout",
     "output_type": "stream",
     "text": [
      "[3, 4, 5]\n"
     ]
    }
   ],
   "source": [
    "# 21. Find the common elements between two lists.\n",
    "\n",
    "list1 = [1, 2, 3, 4, 5]\n",
    "list2 = [3, 4, 5, 6, 7]\n",
    "\n",
    "# Find common elements using list comprehension\n",
    "common_elements = [element for element in list1 if element in list2]\n",
    "\n",
    "print(common_elements)"
   ]
  },
  {
   "cell_type": "code",
   "execution_count": 24,
   "id": "e43dc17c-1d19-42f3-b5b9-cea8fdfd84bd",
   "metadata": {},
   "outputs": [
    {
     "name": "stdout",
     "output_type": "stream",
     "text": [
      "[1, 2]\n"
     ]
    }
   ],
   "source": [
    "# 22. Find the difference between two lists.\n",
    "\n",
    "list1 = [1, 2,3, 4, 5]\n",
    "list2 = [3, 4, 5, 6, 7]\n",
    "\n",
    "# Find elements in list1 that are not in list2\n",
    "difference = [element for element in list1 if element not in list2]\n",
    "\n",
    "print(difference)\n"
   ]
  },
  {
   "cell_type": "code",
   "execution_count": 25,
   "id": "89059e04-e8d6-4b3b-87a1-2542160635f3",
   "metadata": {},
   "outputs": [
    {
     "name": "stdout",
     "output_type": "stream",
     "text": [
      "[1, 2, 3, 4, 5, 6]\n"
     ]
    }
   ],
   "source": [
    "# 23. Merge two lists.\n",
    "\n",
    "list1 = [1, 2, 3]\n",
    "list2 = [4, 5, 6]\n",
    "\n",
    "# Merge list2 into list1 using the extend() method\n",
    "list1.extend(list2)\n",
    "\n",
    "print(list1)"
   ]
  },
  {
   "cell_type": "code",
   "execution_count": 26,
   "id": "53761fa7-d60d-4577-8c63-91fffa4eb887",
   "metadata": {},
   "outputs": [
    {
     "name": "stdout",
     "output_type": "stream",
     "text": [
      "[2, 4, 6, 8, 10]\n"
     ]
    }
   ],
   "source": [
    "# 24. Multiply all elements in a list by 2.\n",
    "\n",
    "my_list = [1, 2, 3, 4, 5]\n",
    "\n",
    "# Multiply all elements in the list by 2 using a list comprehension\n",
    "my_list = [x * 2 for x in my_list]\n",
    "\n",
    "print(my_list)"
   ]
  },
  {
   "cell_type": "code",
   "execution_count": 27,
   "id": "f754aac5-a068-4ada-941c-2893adade4d4",
   "metadata": {},
   "outputs": [
    {
     "name": "stdout",
     "output_type": "stream",
     "text": [
      "[2, 4, 6, 8, 10]\n"
     ]
    }
   ],
   "source": [
    "# 25. Filter out all even numbers from a list.\n",
    "\n",
    "my_list = [1, 2, 3, 4, 5, 6, 7, 8, 9, 10]\n",
    "\n",
    "# Filter out even numbers using a list comprehension\n",
    "even_numbers = [x for x in my_list if x % 2 == 0]\n",
    "\n",
    "print(even_numbers)"
   ]
  },
  {
   "cell_type": "code",
   "execution_count": 28,
   "id": "b5f4745f-1fc7-47a9-a1cc-b973a677a958",
   "metadata": {},
   "outputs": [
    {
     "name": "stdout",
     "output_type": "stream",
     "text": [
      "[1, 2, 3, 4, 5]\n"
     ]
    }
   ],
   "source": [
    "# 26. Convert a list of strings to a list of integers.\n",
    "\n",
    "string_list = [\"1\", \"2\", \"3\", \"4\", \"5\"]\n",
    "\n",
    "# Convert the list of strings to a list of integers using a list comprehension\n",
    "integer_list = [int(x) for x in string_list]\n",
    "\n",
    "print(integer_list)"
   ]
  },
  {
   "cell_type": "code",
   "execution_count": 29,
   "id": "5fc2248a-4b72-48d8-a688-d4e46172146c",
   "metadata": {},
   "outputs": [
    {
     "name": "stdout",
     "output_type": "stream",
     "text": [
      "['1', '2', '3', '4', '5']\n"
     ]
    }
   ],
   "source": [
    "# 27. Convert a list of integers to a list of strings.\n",
    "\n",
    "integer_list = [1, 2, 3, 4, 5]\n",
    "\n",
    "# Convert the list of integers to a list of strings using a list comprehension\n",
    "string_list = [str(x) for x in integer_list]\n",
    "\n",
    "print(string_list)"
   ]
  },
  {
   "cell_type": "code",
   "execution_count": 30,
   "id": "9c5be1c4-914f-44e9-9cfb-f7653df4df26",
   "metadata": {},
   "outputs": [
    {
     "name": "stdout",
     "output_type": "stream",
     "text": [
      "[1, 2, 3, 4, 5, 6, 7]\n"
     ]
    }
   ],
   "source": [
    "# 28. Flatten a nested list.\n",
    "\n",
    "def flatten_list(nested_list):\n",
    "    flattened_list = []\n",
    "    for element in nested_list:\n",
    "        if isinstance(element, list):\n",
    "            flattened_list.extend(flatten_list(element))\n",
    "        else:\n",
    "            flattened_list.append(element)\n",
    "    return flattened_list\n",
    "\n",
    "nested_list = [1, [2, 3], [4, [5, 6]], 7]\n",
    "\n",
    "# Flatten the nested list using a recursive function\n",
    "flattened_list = flatten_list(nested_list)\n",
    "\n",
    "print(flattened_list)"
   ]
  },
  {
   "cell_type": "code",
   "execution_count": 31,
   "id": "e3874f36-49f8-47e6-bb07-4fa9eb975d28",
   "metadata": {},
   "outputs": [
    {
     "name": "stdout",
     "output_type": "stream",
     "text": [
      "[0, 1, 1, 2, 3, 5, 8, 13, 21, 34]\n"
     ]
    }
   ],
   "source": [
    "# 29. Create a list of the first 10 Fibonacci numbers.\n",
    "\n",
    "# Function to generate the first 10 Fibonacci numbers\n",
    "def generate_fibonacci(n):\n",
    "    fibonacci_list = [0, 1]\n",
    "    while len(fibonacci_list) < n:\n",
    "        next_number = fibonacci_list[-1] + fibonacci_list[-2]\n",
    "        fibonacci_list.append(next_number)\n",
    "    return fibonacci_list\n",
    "\n",
    "# Generate the first 10 Fibonacci numbers\n",
    "fibonacci_sequence = generate_fibonacci(10)\n",
    "\n",
    "print(fibonacci_sequence)"
   ]
  },
  {
   "cell_type": "code",
   "execution_count": 32,
   "id": "030dc7f1-068c-494e-9eed-a3961863e9d5",
   "metadata": {},
   "outputs": [
    {
     "name": "stdout",
     "output_type": "stream",
     "text": [
      "True\n",
      "False\n"
     ]
    }
   ],
   "source": [
    "# 30. Check if a list is sorted.\n",
    "\n",
    "# Function to check if a list is sorted\n",
    "def is_sorted(input_list):\n",
    "    return input_list == sorted(input_list)\n",
    "\n",
    "# Test cases\n",
    "list1 = [1, 2, 3, 4, 5]\n",
    "list2 = [5, 4, 3, 2, 1]\n",
    "\n",
    "# Check if list1 is sorted\n",
    "print(is_sorted(list1))  # True\n",
    "\n",
    "# Check if list2 is sorted\n",
    "print(is_sorted(list2))  # False"
   ]
  },
  {
   "cell_type": "code",
   "execution_count": 33,
   "id": "42137e3e-6ae2-49d1-b699-0028015c24bb",
   "metadata": {},
   "outputs": [
    {
     "name": "stdout",
     "output_type": "stream",
     "text": [
      "[3, 4, 5, 1, 2]\n"
     ]
    }
   ],
   "source": [
    "# 31. Rotate a list to the left by `n` positions.\n",
    "\n",
    "def rotate_left(lst, n):\n",
    "    if not lst:\n",
    "        return lst  # If the list is empty, no rotation needed\n",
    "    n %= len(lst)  # Ensure n is within the length of the list\n",
    "    return lst[n:] + lst[:n]\n",
    "\n",
    "# Test cases\n",
    "original_list = [1, 2, 3, 4, 5]\n",
    "\n",
    "# Rotate the list to the left by 2 positions\n",
    "rotated_list = rotate_left(original_list, 2)\n",
    "print(rotated_list)  # Output: [3, 4, 5, 1, 2]"
   ]
  },
  {
   "cell_type": "code",
   "execution_count": 35,
   "id": "d79cbf73-9649-46d1-838a-02b89f48c469",
   "metadata": {},
   "outputs": [
    {
     "name": "stdout",
     "output_type": "stream",
     "text": [
      "[3, 4, 5, 1, 2]\n"
     ]
    }
   ],
   "source": [
    "# 32. Rotate a list to the right by `n` positions.\n",
    "\n",
    "def rotate_right(lst, n):\n",
    "    if not lst:\n",
    "        return lst  # If the list is empty, no rotation needed\n",
    "    n %= len(lst)  # Ensure n is within the length of the list\n",
    "    return lst[len(lst)-n:] + lst[:len(lst)-n]\n",
    "\n",
    "# Test cases\n",
    "original_list = [1, 2, 3, 4, 5]\n",
    "\n",
    "# Rotate the list to the right by 2 positions\n",
    "rotated_list = rotate_right(original_list, 3)\n",
    "print(rotated_list)  # Output: [3, 4, 5, 1, 2]"
   ]
  },
  {
   "cell_type": "code",
   "execution_count": 36,
   "id": "7c8a6a41-123c-4abb-8907-6910c17b9daa",
   "metadata": {},
   "outputs": [
    {
     "name": "stdout",
     "output_type": "stream",
     "text": [
      "[2, 3, 5, 7, 11, 13, 17, 19, 23, 29, 31, 37, 41, 43, 47]\n"
     ]
    }
   ],
   "source": [
    "# 33. Create a list of prime numbers up to 50.\n",
    "\n",
    "# Function to check if a number is prime\n",
    "def is_prime(num):\n",
    "    if num <= 1:\n",
    "        return False\n",
    "    if num <= 3:\n",
    "        return True\n",
    "    if num % 2 == 0 or num % 3 == 0:\n",
    "        return False\n",
    "    i = 5\n",
    "    while i * i <= num:\n",
    "        if num % i == 0 or num % (i + 2) == 0:\n",
    "            return False\n",
    "        i += 6\n",
    "    return True\n",
    "\n",
    "# Generate a list of prime numbers up to 50\n",
    "prime_numbers = [num for num in range(2, 51) if is_prime(num)]\n",
    "\n",
    "print(prime_numbers)"
   ]
  },
  {
   "cell_type": "code",
   "execution_count": 40,
   "id": "6db5f68f-5d8a-4589-aef5-dd5c4473038f",
   "metadata": {},
   "outputs": [
    {
     "name": "stdout",
     "output_type": "stream",
     "text": [
      "[[1, 2, 3], [4, 5, 6], [7, 8, 9], [10]]\n"
     ]
    }
   ],
   "source": [
    "# 34. Split a list into chunks of size `n`.\n",
    "\n",
    "def split_into_chunks(lst, n):\n",
    "    for i in range(0, len(lst), n):\n",
    "        yield lst[i:i + n]\n",
    "\n",
    "# Test case\n",
    "original_list = [1, 2, 3, 4, 5, 6, 7, 8, 9, 10]\n",
    "\n",
    "# Split the list into chunks of size 3\n",
    "chunked_list = list(split_into_chunks(original_list, 3))\n",
    "\n",
    "print(chunked_list)"
   ]
  },
  {
   "cell_type": "code",
   "execution_count": 41,
   "id": "71e9d7f3-a966-47ff-9be6-84a580997e33",
   "metadata": {},
   "outputs": [
    {
     "name": "stdout",
     "output_type": "stream",
     "text": [
      "The second largest number is: 15\n"
     ]
    }
   ],
   "source": [
    "# 35. Find the second largest number in a list.\n",
    "\n",
    "def find_second_largest(numbers):\n",
    "    # Check if the list has at least two elements\n",
    "    if len(numbers) < 2:\n",
    "        return \"List should have at least two elements\"\n",
    "\n",
    "    # Sort the list in descending order\n",
    "    sorted_numbers = sorted(numbers, reverse=True)\n",
    "\n",
    "    # The second largest number is at index 1 of the sorted list\n",
    "    second_largest = sorted_numbers[1]\n",
    "\n",
    "    return second_largest\n",
    "\n",
    "# Example list\n",
    "my_list = [10, 5, 8, 20, 15]\n",
    "\n",
    "# Find the second largest number\n",
    "result = find_second_largest(my_list)\n",
    "\n",
    "print(\"The second largest number is:\", result)"
   ]
  },
  {
   "cell_type": "code",
   "execution_count": 42,
   "id": "909ecfea-0d72-475d-a68b-a1b3867ccc76",
   "metadata": {},
   "outputs": [
    {
     "name": "stdout",
     "output_type": "stream",
     "text": [
      "Original list: [1, 2, 3, 4, 5]\n",
      "List with squared elements: [1, 4, 9, 16, 25]\n"
     ]
    }
   ],
   "source": [
    "# 36. Replace every element in a list with its square.\n",
    "\n",
    "def square_elements(input_list):\n",
    "    squared_list = [x ** 2 for x in input_list]\n",
    "    return squared_list\n",
    "\n",
    "# Example list\n",
    "my_list = [1, 2, 3, 4, 5]\n",
    "\n",
    "# Replace elements with their squares\n",
    "result = square_elements(my_list)\n",
    "\n",
    "print(\"Original list:\", my_list)\n",
    "print(\"List with squared elements:\", result)"
   ]
  },
  {
   "cell_type": "code",
   "execution_count": 43,
   "id": "b329007d-9a91-4736-ac5c-70654bae11da",
   "metadata": {},
   "outputs": [
    {
     "name": "stdout",
     "output_type": "stream",
     "text": [
      "Original list: ['apple', 'banana', 'cherry', 'date']\n",
      "Dictionary with list elements as keys and indices as values: {'apple': 0, 'banana': 1, 'cherry': 2, 'date': 3}\n"
     ]
    }
   ],
   "source": [
    "# 37. Convert a list to a dictionary where list elements become keys and their indices become values.\n",
    "\n",
    "def list_to_dictionary(input_list):\n",
    "    # Using a dictionary comprehension to create the dictionary\n",
    "    result_dict = {value: index for index, value in enumerate(input_list)}\n",
    "    return result_dict\n",
    "\n",
    "# Example list\n",
    "my_list = ['apple', 'banana', 'cherry', 'date']\n",
    "\n",
    "# Convert the list to a dictionary\n",
    "result = list_to_dictionary(my_list)\n",
    "\n",
    "print(\"Original list:\", my_list)\n",
    "print(\"Dictionary with list elements as keys and indices as values:\", result)"
   ]
  },
  {
   "cell_type": "code",
   "execution_count": 48,
   "id": "5e716c37-f09a-48b2-9b30-f99f3e7d581a",
   "metadata": {},
   "outputs": [
    {
     "name": "stdout",
     "output_type": "stream",
     "text": [
      "Shuffled list: [3, 5, 4, 1, 2]\n"
     ]
    }
   ],
   "source": [
    "# 38. Shuffle the elements of a list randomly.\n",
    "\n",
    "import random\n",
    "\n",
    "def shuffle_list(input_list):\n",
    "    # Shuffle the list in place using random.shuffle()\n",
    "    random.shuffle(input_list)\n",
    "\n",
    "# Example list\n",
    "my_list = [1, 2, 3, 4, 5]\n",
    "\n",
    "# Shuffle the elements of the list\n",
    "shuffle_list(my_list)\n",
    "\n",
    "print(\"Shuffled list:\", my_list)"
   ]
  },
  {
   "cell_type": "code",
   "execution_count": 49,
   "id": "ccda9920-1d92-458a-ba99-1db77d8ab182",
   "metadata": {},
   "outputs": [
    {
     "name": "stdout",
     "output_type": "stream",
     "text": [
      "First 10 factorial numbers: [1, 1, 2, 6, 24, 120, 720, 5040, 40320, 362880]\n"
     ]
    }
   ],
   "source": [
    "# 39. Create a list of the first 10 factorial numbers.\n",
    "\n",
    "def factorial(n):\n",
    "    if n == 0:\n",
    "        return 1\n",
    "    else:\n",
    "        return n * factorial(n - 1)\n",
    "\n",
    "# Create a list of the first 10 factorial numbers\n",
    "factorial_list = [factorial(i) for i in range(10)]\n",
    "\n",
    "print(\"First 10 factorial numbers:\", factorial_list)"
   ]
  },
  {
   "cell_type": "code",
   "execution_count": 50,
   "id": "60d71677-6eb4-48b1-9a66-5359b4b2fc2a",
   "metadata": {},
   "outputs": [
    {
     "name": "stdout",
     "output_type": "stream",
     "text": [
      "The two lists have at least one common element.\n"
     ]
    }
   ],
   "source": [
    "# 40. Check if two lists have at least one element in common.\n",
    "\n",
    "def have_common_element(list1, list2):\n",
    "    # Convert the lists to sets\n",
    "    set1 = set(list1)\n",
    "    set2 = set(list2)\n",
    "\n",
    "    # Check if there's at least one common element\n",
    "    if set1.intersection(set2):\n",
    "        return True\n",
    "    else:\n",
    "        return False\n",
    "\n",
    "# Example lists\n",
    "list1 = [1, 2, 3, 4, 5]\n",
    "list2 = [4, 5, 6, 7, 8]\n",
    "\n",
    "# Check if the two lists have at least one common element\n",
    "result = have_common_element(list1, list2)\n",
    "\n",
    "if result:\n",
    "    print(\"The two lists have at least one common element.\")\n",
    "else:\n",
    "    print(\"The two lists do not have any common elements.\")"
   ]
  },
  {
   "cell_type": "code",
   "execution_count": 51,
   "id": "333def1d-51b8-4fad-987d-17e76d49a278",
   "metadata": {},
   "outputs": [],
   "source": [
    "# 41. Remove all elements from a list.\n",
    "\n",
    "my_list = [1, 2, 3, 4, 5]\n",
    "my_list.clear()"
   ]
  },
  {
   "cell_type": "code",
   "execution_count": 52,
   "id": "775ed97d-3a6f-4490-a581-296f2149b14a",
   "metadata": {},
   "outputs": [
    {
     "name": "stdout",
     "output_type": "stream",
     "text": [
      "[1, 0, 3, 0, 5, 0]\n"
     ]
    }
   ],
   "source": [
    "# 42. Replace negative numbers in a list with 0.\n",
    "\n",
    "my_list = [1, -2, 3, -4, 5, -6]\n",
    "\n",
    "for i in range(len(my_list)):\n",
    "    if my_list[i] < 0:\n",
    "        my_list[i] = 0\n",
    "\n",
    "print(my_list)"
   ]
  },
  {
   "cell_type": "code",
   "execution_count": 53,
   "id": "0c9a4f65-6f89-4827-96c9-8e897cd042a9",
   "metadata": {},
   "outputs": [
    {
     "name": "stdout",
     "output_type": "stream",
     "text": [
      "['This', 'is', 'a', 'sample', 'sentence.']\n"
     ]
    }
   ],
   "source": [
    "# 43. Convert a string into a list of words.\n",
    "\n",
    "text = \"This is a sample sentence.\"\n",
    "\n",
    "# Use split() to convert the string into a list of words\n",
    "word_list = text.split()\n",
    "\n",
    "# Print the list of words\n",
    "print(word_list)"
   ]
  },
  {
   "cell_type": "code",
   "execution_count": 54,
   "id": "ca5ab9da-dc47-4f5f-9c5b-907480f0a621",
   "metadata": {},
   "outputs": [
    {
     "name": "stdout",
     "output_type": "stream",
     "text": [
      "This is a list of words\n"
     ]
    }
   ],
   "source": [
    "# 44. Convert a list of words into a string.\n",
    "\n",
    "word_list = ['This', 'is', 'a', 'list', 'of', 'words']\n",
    "\n",
    "# Use join() to convert the list of words into a string\n",
    "text = ' '.join(word_list)\n",
    "\n",
    "# Print the resulting string\n",
    "print(text)"
   ]
  },
  {
   "cell_type": "code",
   "execution_count": 55,
   "id": "4e6cd4d6-7fd5-49b0-b151-10101b5cfa16",
   "metadata": {},
   "outputs": [
    {
     "name": "stdout",
     "output_type": "stream",
     "text": [
      "[1, 2, 4, 8, 16]\n"
     ]
    }
   ],
   "source": [
    "# 45. Create a list of the first `n` powers of 2.\n",
    "\n",
    "n = 5  # Change this to the desired number of powers of 2\n",
    "powers_of_2 = [2 ** i for i in range(n)]\n",
    "print(powers_of_2)"
   ]
  },
  {
   "cell_type": "code",
   "execution_count": 56,
   "id": "e9be5f11-1379-4420-8ae0-c09dc4ee94a8",
   "metadata": {},
   "outputs": [
    {
     "name": "stdout",
     "output_type": "stream",
     "text": [
      "elderberry\n"
     ]
    }
   ],
   "source": [
    "# 46. Find the longest string in a list of strings.\n",
    "\n",
    "string_list = ['apple', 'banana', 'cherry', 'date', 'elderberry']\n",
    "\n",
    "# Use the max() function with a custom key function to find the longest string\n",
    "longest_string = max(string_list, key=len)\n",
    "\n",
    "# Print the longest string\n",
    "print(longest_string)"
   ]
  },
  {
   "cell_type": "code",
   "execution_count": 57,
   "id": "4630c420-b1ef-4a57-b15b-6f979b1d8668",
   "metadata": {},
   "outputs": [
    {
     "name": "stdout",
     "output_type": "stream",
     "text": [
      "date\n"
     ]
    }
   ],
   "source": [
    "# 47. Find the shortest string in a list of strings.\n",
    "\n",
    "string_list = ['apple', 'banana', 'cherry', 'date', 'elderberry']\n",
    "\n",
    "# Use the min() function with a custom key function to find the shortest string\n",
    "shortest_string = min(string_list, key=len)\n",
    "\n",
    "# Print the shortest string\n",
    "print(shortest_string)"
   ]
  },
  {
   "cell_type": "code",
   "execution_count": 58,
   "id": "d3221c43-e2f2-4bc5-9c47-e99892fe2aa9",
   "metadata": {},
   "outputs": [
    {
     "name": "stdout",
     "output_type": "stream",
     "text": [
      "[1, 3, 6, 10, 15, 21, 28, 36, 45, 55]\n"
     ]
    }
   ],
   "source": [
    "# 48. Create a list of the first `n` triangular numbers.\n",
    "\n",
    "def generate_triangular_numbers(n):\n",
    "    triangular_numbers = []\n",
    "    for i in range(1, n + 1):\n",
    "        # Calculate the i-th triangular number and append it to the list\n",
    "        triangular_number = (i * (i + 1)) // 2\n",
    "        triangular_numbers.append(triangular_number)\n",
    "    return triangular_numbers\n",
    "\n",
    "# Specify the value of n\n",
    "n = 10\n",
    "\n",
    "# Generate the first n triangular numbers\n",
    "triangular_numbers = generate_triangular_numbers(n)\n",
    "\n",
    "# Print the list of triangular numbers\n",
    "print(triangular_numbers)"
   ]
  },
  {
   "cell_type": "code",
   "execution_count": 59,
   "id": "c807d7b1-17f4-4308-a972-0004991d3bf6",
   "metadata": {},
   "outputs": [
    {
     "name": "stdout",
     "output_type": "stream",
     "text": [
      "Yes, subsequence is a subsequence of sequence.\n"
     ]
    }
   ],
   "source": [
    "# 49. Check if a list contains another list as a subsequence.\n",
    "\n",
    "def is_subsequence(subsequence, sequence):\n",
    "    # Initialize pointers for both lists\n",
    "    sub_idx = 0\n",
    "    seq_idx = 0\n",
    "\n",
    "    # Iterate through the sequence list\n",
    "    while seq_idx < len(sequence):\n",
    "        # If the current elements match, move the subsequence pointer\n",
    "        if subsequence[sub_idx] == sequence[seq_idx]:\n",
    "            sub_idx += 1\n",
    "\n",
    "            # If we have reached the end of the subsequence, it is a subsequence\n",
    "            if sub_idx == len(subsequence):\n",
    "                return True\n",
    "        \n",
    "        # Move the sequence pointer\n",
    "        seq_idx += 1\n",
    "\n",
    "    # If we reach the end of the sequence without finding the subsequence, it's not a subsequence\n",
    "    return False\n",
    "\n",
    "# Example usage\n",
    "sequence = [1, 2, 3, 4, 5, 6]\n",
    "subsequence = [2, 4, 6]\n",
    "\n",
    "# Check if subsequence is a subsequence of sequence\n",
    "result = is_subsequence(subsequence, sequence)\n",
    "\n",
    "if result:\n",
    "    print(\"Yes, subsequence is a subsequence of sequence.\")\n",
    "else:\n",
    "    print(\"No, subsequence is not a subsequence of sequence.\")"
   ]
  },
  {
   "cell_type": "code",
   "execution_count": 60,
   "id": "7d921fad-ced2-4aa3-bac5-0ad19bc074d6",
   "metadata": {},
   "outputs": [
    {
     "name": "stdout",
     "output_type": "stream",
     "text": [
      "[1, 4, 3, 2, 5]\n"
     ]
    }
   ],
   "source": [
    "# 50. Swap two elements in a list by their indices.\n",
    "\n",
    "def swap_elements(lst, index1, index2):\n",
    "    # Check if the indices are valid\n",
    "    if 0 <= index1 < len(lst) and 0 <= index2 < len(lst):\n",
    "        # Swap the elements at the specified indices\n",
    "        lst[index1], lst[index2] = lst[index2], lst[index1]\n",
    "\n",
    "# Example usage\n",
    "my_list = [1, 2, 3, 4, 5]\n",
    "\n",
    "# Swap elements at index 1 and index 3\n",
    "swap_elements(my_list, 1, 3)\n",
    "\n",
    "# Print the list after swapping\n",
    "print(my_list)"
   ]
  },
  {
   "cell_type": "markdown",
   "id": "cb0c3ffe-b778-4732-a691-3e17118c4282",
   "metadata": {},
   "source": [
    "# Tuple Based Practice Problem :"
   ]
  },
  {
   "cell_type": "code",
   "execution_count": 61,
   "id": "226e1bc8-7169-48d3-b3f9-3bfa4dbf0f26",
   "metadata": {},
   "outputs": [],
   "source": [
    "# 1. Create a tuple with integers from 1 to 5.\n",
    "\n",
    "my_tuple = (1, 2, 3, 4, 5)"
   ]
  },
  {
   "cell_type": "code",
   "execution_count": 62,
   "id": "565b1aa2-4a18-4b5c-affd-5f143f28d66d",
   "metadata": {},
   "outputs": [
    {
     "name": "stdout",
     "output_type": "stream",
     "text": [
      "3\n"
     ]
    }
   ],
   "source": [
    "#2. Access the third element of a tuple.\n",
    "\n",
    "my_tuple = (1, 2, 3, 4, 5)\n",
    "\n",
    "# Access the third element (index 2)\n",
    "third_element = my_tuple[2]\n",
    "\n",
    "print(third_element)"
   ]
  },
  {
   "cell_type": "code",
   "execution_count": 63,
   "id": "47e68fa3-fd99-4794-a2d3-4a06e5a66f5c",
   "metadata": {},
   "outputs": [
    {
     "name": "stdout",
     "output_type": "stream",
     "text": [
      "5\n"
     ]
    }
   ],
   "source": [
    "# 3. Find the length of a tuple without using the `len()` function.\n",
    "\n",
    "my_tuple = (1, 2, 3, 4, 5)\n",
    "\n",
    "# Initialize a count variable to 0\n",
    "count = 0\n",
    "\n",
    "# Iterate through the tuple and count the elements\n",
    "for _ in my_tuple:\n",
    "    count += 1\n",
    "\n",
    "# The 'count' variable now holds the length of the tuple\n",
    "print(count)"
   ]
  },
  {
   "cell_type": "code",
   "execution_count": 64,
   "id": "6b7c0efc-867b-44f2-be5a-8111503b18e9",
   "metadata": {},
   "outputs": [
    {
     "name": "stdout",
     "output_type": "stream",
     "text": [
      "3\n"
     ]
    }
   ],
   "source": [
    "# 4. Count the occurrences of an element in a tuple.\n",
    "\n",
    "my_tuple = (1, 2, 2, 3, 4, 2, 5)\n",
    "\n",
    "# Count the occurrences of the element '2'\n",
    "count = my_tuple.count(2)\n",
    "\n",
    "print(count)"
   ]
  },
  {
   "cell_type": "code",
   "execution_count": 65,
   "id": "612573e4-c8f6-4624-8d2b-cb98207b7e1c",
   "metadata": {},
   "outputs": [
    {
     "name": "stdout",
     "output_type": "stream",
     "text": [
      "1\n"
     ]
    }
   ],
   "source": [
    "# 5. Find the index of the first occurrence of an element in a tuple.\n",
    "\n",
    "my_tuple = (1, 2, 3, 4, 2, 5)\n",
    "\n",
    "# Find the index of the first occurrence of '2'\n",
    "index = my_tuple.index(2)\n",
    "\n",
    "print(index)"
   ]
  },
  {
   "cell_type": "code",
   "execution_count": 66,
   "id": "716d7ee9-be5c-4a8a-af18-72bf15941d4a",
   "metadata": {},
   "outputs": [
    {
     "name": "stdout",
     "output_type": "stream",
     "text": [
      "3 exists in the tuple.\n"
     ]
    }
   ],
   "source": [
    "# 6. Check if an element exists in a tuple.\n",
    "\n",
    "my_tuple = (1, 2, 3, 4, 5)\n",
    "\n",
    "# Element to check\n",
    "element_to_check = 3\n",
    "\n",
    "# Check if the element exists in the tuple\n",
    "if element_to_check in my_tuple:\n",
    "    print(f\"{element_to_check} exists in the tuple.\")\n",
    "else:\n",
    "    print(f\"{element_to_check} does not exist in the tuple.\")"
   ]
  },
  {
   "cell_type": "code",
   "execution_count": 67,
   "id": "e1681d27-b51f-45d2-aef0-193f4679b0aa",
   "metadata": {},
   "outputs": [
    {
     "name": "stdout",
     "output_type": "stream",
     "text": [
      "[1, 2, 3, 4, 5]\n"
     ]
    }
   ],
   "source": [
    "# 7. Convert a tuple to a list.\n",
    "\n",
    "my_tuple = (1, 2, 3, 4, 5)\n",
    "\n",
    "# Convert the tuple to a list\n",
    "my_list = list(my_tuple)\n",
    "\n",
    "print(my_list)"
   ]
  },
  {
   "cell_type": "code",
   "execution_count": 68,
   "id": "301ba001-94e9-4866-bbc5-be94d6b4eb70",
   "metadata": {},
   "outputs": [
    {
     "name": "stdout",
     "output_type": "stream",
     "text": [
      "(1, 2, 3, 4, 5)\n"
     ]
    }
   ],
   "source": [
    "# 8. Convert a list to a tuple.\n",
    "\n",
    "my_list = [1, 2, 3, 4, 5]\n",
    "\n",
    "# Convert the list to a tuple\n",
    "my_tuple = tuple(my_list)\n",
    "\n",
    "print(my_tuple)"
   ]
  },
  {
   "cell_type": "code",
   "execution_count": 69,
   "id": "9411fc27-e617-4596-8f39-67438109a19c",
   "metadata": {},
   "outputs": [
    {
     "name": "stdout",
     "output_type": "stream",
     "text": [
      "1\n",
      "2\n",
      "3\n"
     ]
    }
   ],
   "source": [
    "# 9. Unpack the elements of a tuple into variables.\n",
    "\n",
    "my_tuple = (1, 2, 3)\n",
    "\n",
    "# Unpack the tuple into variables\n",
    "var1, var2, var3 = my_tuple\n",
    "\n",
    "print(var1)\n",
    "print(var2)\n",
    "print(var3)"
   ]
  },
  {
   "cell_type": "code",
   "execution_count": 70,
   "id": "74b81fca-5800-4069-a186-bda3a97c4a3b",
   "metadata": {},
   "outputs": [
    {
     "name": "stdout",
     "output_type": "stream",
     "text": [
      "(2, 4, 6, 8, 10)\n"
     ]
    }
   ],
   "source": [
    "# 10. Create a tuple of even numbers from 1 to 10.\n",
    "\n",
    "# Create a tuple of even numbers from 1 to 10\n",
    "even_numbers_tuple = tuple(x for x in range(2, 11, 2))\n",
    "\n",
    "print(even_numbers_tuple)"
   ]
  },
  {
   "cell_type": "code",
   "execution_count": 71,
   "id": "76d8d805-1b8a-452e-831d-dc9a908ce5d6",
   "metadata": {},
   "outputs": [
    {
     "name": "stdout",
     "output_type": "stream",
     "text": [
      "(1, 3, 5, 7, 9)\n"
     ]
    }
   ],
   "source": [
    "# 11. Create a tuple of odd numbers from 1 to 10.\n",
    "\n",
    "# Create a tuple of odd numbers from 1 to 10\n",
    "odd_numbers_tuple = tuple(x for x in range(1, 11) if x % 2 != 0)\n",
    "\n",
    "print(odd_numbers_tuple)"
   ]
  },
  {
   "cell_type": "code",
   "execution_count": 72,
   "id": "df122d00-40dd-44ee-a573-9b9e113a0dd5",
   "metadata": {},
   "outputs": [
    {
     "name": "stdout",
     "output_type": "stream",
     "text": [
      "(1, 2, 3, 4, 5, 6)\n"
     ]
    }
   ],
   "source": [
    "# 12. Concatenate two tuples.\n",
    "\n",
    "# Two tuples to concatenate\n",
    "tuple1 = (1, 2, 3)\n",
    "tuple2 = (4, 5, 6)\n",
    "\n",
    "# Concatenate the two tuples\n",
    "concatenated_tuple = tuple1 + tuple2\n",
    "\n",
    "print(concatenated_tuple)"
   ]
  },
  {
   "cell_type": "code",
   "execution_count": 73,
   "id": "04807582-3172-42e9-b2b6-46e00ab22301",
   "metadata": {},
   "outputs": [
    {
     "name": "stdout",
     "output_type": "stream",
     "text": [
      "(1, 2, 3, 1, 2, 3, 1, 2, 3)\n"
     ]
    }
   ],
   "source": [
    "# 13. Repeat a tuple three times.\n",
    "\n",
    "# Original tuple\n",
    "original_tuple = (1, 2, 3)\n",
    "\n",
    "# Repeat the tuple three times\n",
    "repeated_tuple = original_tuple * 3\n",
    "\n",
    "print(repeated_tuple)"
   ]
  },
  {
   "cell_type": "code",
   "execution_count": 74,
   "id": "fe008ace-0271-41d7-9eae-e09b0a1ba570",
   "metadata": {},
   "outputs": [
    {
     "name": "stdout",
     "output_type": "stream",
     "text": [
      "The tuple is empty.\n"
     ]
    }
   ],
   "source": [
    "# 14. Check if a tuple is empty.\n",
    "\n",
    "# Empty tuple\n",
    "empty_tuple = ()\n",
    "\n",
    "# Check if the tuple is empty\n",
    "if not empty_tuple:\n",
    "    print(\"The tuple is empty.\")\n",
    "else:\n",
    "    print(\"The tuple is not empty.\")"
   ]
  },
  {
   "cell_type": "code",
   "execution_count": 75,
   "id": "616e1ba3-da71-4ba5-981d-3a5ac6b32438",
   "metadata": {},
   "outputs": [],
   "source": [
    "# 15. Create a nested tuple.\n",
    "\n",
    "# Creating a nested tuple\n",
    "nested_tuple = (1, 2, (3, 4), (5, 6, (7, 8)))"
   ]
  },
  {
   "cell_type": "code",
   "execution_count": 76,
   "id": "12379c6a-567f-4144-9baa-f47c1cb19b4e",
   "metadata": {},
   "outputs": [
    {
     "name": "stdout",
     "output_type": "stream",
     "text": [
      "1\n"
     ]
    }
   ],
   "source": [
    "# 16. Access the first element of a nested tuple.\n",
    "\n",
    "# Creating a nested tuple\n",
    "nested_tuple = (1, 2, (3, 4), (5, 6, (7, 8)))\n",
    "\n",
    "# Accessing the first element of the nested tuple\n",
    "first_element = nested_tuple[0]\n",
    "\n",
    "# Printing the result\n",
    "print(first_element)"
   ]
  },
  {
   "cell_type": "code",
   "execution_count": 77,
   "id": "a5fc1b63-f917-49fa-a4c3-c30ef4455701",
   "metadata": {},
   "outputs": [
    {
     "name": "stdout",
     "output_type": "stream",
     "text": [
      "<class 'tuple'>\n"
     ]
    }
   ],
   "source": [
    "# 17. Create a tuple with a single element.\n",
    "\n",
    "# Creating a tuple with a single element\n",
    "single_element_tuple = (42,)\n",
    "\n",
    "# Checking the type and printing the result\n",
    "print(type(single_element_tuple))"
   ]
  },
  {
   "cell_type": "code",
   "execution_count": 78,
   "id": "63968b6b-2c27-4263-ba1f-bd0555af0cbe",
   "metadata": {},
   "outputs": [
    {
     "name": "stdout",
     "output_type": "stream",
     "text": [
      "False\n",
      "True\n",
      "True\n",
      "False\n",
      "True\n",
      "False\n"
     ]
    }
   ],
   "source": [
    "# 18. Compare two tuples.\n",
    "\n",
    "# Define two tuples\n",
    "tuple1 = (1, 2, 3)\n",
    "tuple2 = (1, 2, 4)\n",
    "\n",
    "# Compare if two tuples are equal\n",
    "print(tuple1 == tuple2)  # False\n",
    "\n",
    "# Compare if two tuples are not equal\n",
    "print(tuple1 != tuple2)  # True\n",
    "\n",
    "# Compare if the first tuple is less than the second tuple\n",
    "print(tuple1 < tuple2)   # True (element-wise comparison)\n",
    "\n",
    "# Compare if the first tuple is greater than the second tuple\n",
    "print(tuple1 > tuple2)   # False (element-wise comparison)\n",
    "\n",
    "# Compare if the first tuple is less than or equal to the second tuple\n",
    "print(tuple1 <= tuple2)  # True (element-wise comparison)\n",
    "\n",
    "# Compare if the first tuple is greater than or equal to the second tuple\n",
    "print(tuple1 >= tuple2)  # False (element-wise comparison)"
   ]
  },
  {
   "cell_type": "code",
   "execution_count": 79,
   "id": "07b79807-42d4-4a28-b63a-3c78441191bf",
   "metadata": {},
   "outputs": [],
   "source": [
    "# 19. Delete a tuple.\n",
    "\n",
    "# Create a tuple\n",
    "my_tuple = (1, 2, 3, 4, 5)\n",
    "\n",
    "# Delete the entire tuple\n",
    "del my_tuple"
   ]
  },
  {
   "cell_type": "code",
   "execution_count": 80,
   "id": "abaefee0-03dc-49fc-964f-c74df42dc27d",
   "metadata": {},
   "outputs": [
    {
     "name": "stdout",
     "output_type": "stream",
     "text": [
      "(2, 3, 4)\n"
     ]
    }
   ],
   "source": [
    "# 20. Slice a tuple.\n",
    "\n",
    "# Create a tuple\n",
    "my_tuple = (1, 2, 3, 4, 5)\n",
    "sliced_tuple = my_tuple[1:4]\n",
    "\n",
    "# Print the sliced tuple\n",
    "print(sliced_tuple)  # Output will be (2, 3, 4)"
   ]
  },
  {
   "cell_type": "code",
   "execution_count": 81,
   "id": "2b80120f-f594-4995-bfec-a0cbe1816558",
   "metadata": {},
   "outputs": [
    {
     "name": "stdout",
     "output_type": "stream",
     "text": [
      "Maximum value: 9\n"
     ]
    }
   ],
   "source": [
    "# 21. Find the maximum value in a tuple.\n",
    "\n",
    "# Create a tuple\n",
    "my_tuple = (3, 7, 1, 9, 4, 6, 8, 2, 5)\n",
    "\n",
    "# Find the maximum value in the tuple\n",
    "max_value = max(my_tuple)\n",
    "\n",
    "# Print the maximum value\n",
    "print(\"Maximum value:\", max_value)"
   ]
  },
  {
   "cell_type": "code",
   "execution_count": 82,
   "id": "c4fae231-ca63-48c2-8721-0122f5387ddc",
   "metadata": {},
   "outputs": [
    {
     "name": "stdout",
     "output_type": "stream",
     "text": [
      "Minimum value: 1\n"
     ]
    }
   ],
   "source": [
    "# 22. Find the minimum value in a tuple.\n",
    "\n",
    "# Create a tuple\n",
    "my_tuple = (3, 7, 1, 9, 4, 6, 8, 2, 5)\n",
    "\n",
    "# Find the minimum value in the tuple\n",
    "min_value = min(my_tuple)\n",
    "\n",
    "# Print the minimum value\n",
    "print(\"Minimum value:\", min_value)"
   ]
  },
  {
   "cell_type": "code",
   "execution_count": 83,
   "id": "9346fd6f-e448-4fe9-94cb-d9655cd691d7",
   "metadata": {},
   "outputs": [
    {
     "name": "stdout",
     "output_type": "stream",
     "text": [
      "('H', 'e', 'l', 'l', 'o', ',', ' ', 'W', 'o', 'r', 'l', 'd', '!')\n"
     ]
    }
   ],
   "source": [
    "# 23. Convert a string to a tuple of characters.\n",
    "\n",
    "# Input string\n",
    "input_string = \"Hello, World!\"\n",
    "\n",
    "# Convert the string to a tuple of characters using a list comprehension\n",
    "char_tuple = tuple(char for char in input_string)\n",
    "\n",
    "# Print the tuple\n",
    "print(char_tuple)"
   ]
  },
  {
   "cell_type": "code",
   "execution_count": 84,
   "id": "996edaed-edf5-4d27-8bf8-e15f320fd097",
   "metadata": {},
   "outputs": [
    {
     "name": "stdout",
     "output_type": "stream",
     "text": [
      "Hello, World!\n"
     ]
    }
   ],
   "source": [
    "# 24. Convert a tuple of characters to a string.\n",
    "\n",
    "# Tuple of characters\n",
    "char_tuple = ('H', 'e', 'l', 'l', 'o', ',', ' ', 'W', 'o', 'r', 'l', 'd', '!')\n",
    "\n",
    "# Convert the tuple to a string\n",
    "result_string = ''.join(char_tuple)\n",
    "\n",
    "# Print the resulting string\n",
    "print(result_string)"
   ]
  },
  {
   "cell_type": "code",
   "execution_count": 85,
   "id": "6a50f6fe-9638-4891-9efd-66c7feed7a62",
   "metadata": {},
   "outputs": [
    {
     "name": "stdout",
     "output_type": "stream",
     "text": [
      "(42, 'hello', 3.14, True, [1, 2, 3])\n"
     ]
    }
   ],
   "source": [
    "# 25. Create a tuple from multiple data types.\n",
    "\n",
    "# Create a tuple with elements of different data types\n",
    "mixed_tuple = (42, \"hello\", 3.14, True, [1, 2, 3])\n",
    "\n",
    "# Print the mixed tuple\n",
    "print(mixed_tuple)"
   ]
  },
  {
   "cell_type": "code",
   "execution_count": 86,
   "id": "2c171722-3712-49cb-985c-d34cf512006f",
   "metadata": {},
   "outputs": [
    {
     "name": "stdout",
     "output_type": "stream",
     "text": [
      "Tuples are identical\n"
     ]
    }
   ],
   "source": [
    "# 26. Check if two tuples are identical.\n",
    "\n",
    "# Define two tuples\n",
    "tuple1 = (1, 2, 3)\n",
    "tuple2 = (1, 2, 3)\n",
    "\n",
    "# Check if the two tuples are identical\n",
    "if tuple1 == tuple2:\n",
    "    print(\"Tuples are identical\")\n",
    "else:\n",
    "    print(\"Tuples are not identical\")"
   ]
  },
  {
   "cell_type": "code",
   "execution_count": 87,
   "id": "aa5ac0c9-33a2-4f91-9dc6-b3f1f0e4ddcf",
   "metadata": {},
   "outputs": [
    {
     "name": "stdout",
     "output_type": "stream",
     "text": [
      "(1, 2, 4, 5, 7)\n"
     ]
    }
   ],
   "source": [
    "# 27. Sort the elements of a tuple.\n",
    "\n",
    "# Define a tuple\n",
    "my_tuple = (4, 2, 7, 1, 5)\n",
    "\n",
    "# Convert the tuple to a list\n",
    "my_list = list(my_tuple)\n",
    "\n",
    "# Sort the list\n",
    "my_list.sort()\n",
    "\n",
    "# Convert the sorted list back to a tuple\n",
    "sorted_tuple = tuple(my_list)\n",
    "\n",
    "# Display the sorted tuple\n",
    "print(sorted_tuple)"
   ]
  },
  {
   "cell_type": "code",
   "execution_count": 88,
   "id": "d8cf06ba-2c0a-4f06-a10c-99858b9b31ed",
   "metadata": {},
   "outputs": [
    {
     "name": "stdout",
     "output_type": "stream",
     "text": [
      "('1', '2', '3', '4', '5')\n"
     ]
    }
   ],
   "source": [
    "# 28. Convert a tuple of integers to a tuple of strings.\n",
    "\n",
    "# Define a tuple of integers\n",
    "int_tuple = (1, 2, 3, 4, 5)\n",
    "\n",
    "# Convert the tuple of integers to a tuple of strings\n",
    "str_tuple = tuple(str(x) for x in int_tuple)\n",
    "\n",
    "# Display the tuple of strings\n",
    "print(str_tuple)"
   ]
  },
  {
   "cell_type": "code",
   "execution_count": 89,
   "id": "bf20d5d8-8a26-407b-94c9-9fcf3174e771",
   "metadata": {},
   "outputs": [
    {
     "name": "stdout",
     "output_type": "stream",
     "text": [
      "(1, 2, 3, 4, 5)\n"
     ]
    }
   ],
   "source": [
    "# 29. Convert a tuple of strings to a tuple of integers.\n",
    "\n",
    "# Define a tuple of strings\n",
    "str_tuple = ('1', '2', '3', '4', '5')\n",
    "\n",
    "# Convert the tuple of strings to a tuple of integers\n",
    "int_tuple = tuple(int(x) for x in str_tuple)\n",
    "\n",
    "# Display the tuple of integers\n",
    "print(int_tuple)"
   ]
  },
  {
   "cell_type": "code",
   "execution_count": 90,
   "id": "96872153-fd0f-47cd-b6e4-ddd13069eed8",
   "metadata": {},
   "outputs": [
    {
     "name": "stdout",
     "output_type": "stream",
     "text": [
      "(1, 2, 3, 4, 5, 6)\n"
     ]
    }
   ],
   "source": [
    "# 30. Merge two tuples.\n",
    "\n",
    "# Define two tuples\n",
    "tuple1 = (1, 2, 3)\n",
    "tuple2 = (4, 5, 6)\n",
    "\n",
    "# Merge the two tuples\n",
    "merged_tuple = tuple1 + tuple2\n",
    "\n",
    "# Display the merged tuple\n",
    "print(merged_tuple)"
   ]
  },
  {
   "cell_type": "code",
   "execution_count": 91,
   "id": "883947e2-0c60-497e-b496-6add4ebf5c0d",
   "metadata": {},
   "outputs": [
    {
     "name": "stdout",
     "output_type": "stream",
     "text": [
      "(1, 2, 3, 4, 5, 6)\n"
     ]
    }
   ],
   "source": [
    "# 31. Flatten a nested tuple.\n",
    "\n",
    "def flatten_nested_tuple(nested_tuple):\n",
    "    flattened = ()\n",
    "    for item in nested_tuple:\n",
    "        if isinstance(item, tuple):\n",
    "            flattened += flatten_nested_tuple(item)\n",
    "        else:\n",
    "            flattened += (item,)\n",
    "    return flattened\n",
    "\n",
    "# Example usage:\n",
    "nested_tuple = ((1, 2), (3, (4, 5)), 6)\n",
    "flattened_tuple = flatten_nested_tuple(nested_tuple)\n",
    "print(flattened_tuple)"
   ]
  },
  {
   "cell_type": "code",
   "execution_count": 92,
   "id": "7b7317fa-c9af-448b-b313-2cfdb314f759",
   "metadata": {},
   "outputs": [],
   "source": [
    "# 32. Create a tuple of the first 5 prime numbers.\n",
    "\n",
    "prime_numbers = (2, 3, 5, 7, 11)"
   ]
  },
  {
   "cell_type": "code",
   "execution_count": 93,
   "id": "4d5a55aa-ad58-4b07-acac-0ec8dbc3cfbf",
   "metadata": {},
   "outputs": [
    {
     "name": "stdout",
     "output_type": "stream",
     "text": [
      "The tuple is a palindrome.\n"
     ]
    }
   ],
   "source": [
    "# 33. Check if a tuple is a palindrome.\n",
    "\n",
    "def is_palindrome_tuple(t):\n",
    "    return t == t[::-1]\n",
    "\n",
    "# Example usage:\n",
    "my_tuple = (1, 2, 3, 2, 1)\n",
    "result = is_palindrome_tuple(my_tuple)\n",
    "\n",
    "if result:\n",
    "    print(\"The tuple is a palindrome.\")\n",
    "else:\n",
    "    print(\"The tuple is not a palindrome.\")"
   ]
  },
  {
   "cell_type": "code",
   "execution_count": 94,
   "id": "f4492e4b-7086-4292-84e6-30853d546703",
   "metadata": {},
   "outputs": [
    {
     "name": "stdout",
     "output_type": "stream",
     "text": [
      "(1, 4, 9, 16, 25)\n"
     ]
    }
   ],
   "source": [
    "# 34. Create a tuple of squares of numbers from 1 to 5.\n",
    "\n",
    "squares_tuple = tuple(x ** 2 for x in range(1, 6))\n",
    "print(squares_tuple)"
   ]
  },
  {
   "cell_type": "code",
   "execution_count": 95,
   "id": "d46779f5-50c1-4a22-b554-f3d49385d7d1",
   "metadata": {},
   "outputs": [
    {
     "name": "stdout",
     "output_type": "stream",
     "text": [
      "(2, 4, 6, 8, 10)\n"
     ]
    }
   ],
   "source": [
    "# 35. Filter out all even numbers from a tuple.\n",
    "\n",
    "original_tuple = (1, 2, 3, 4, 5, 6, 7, 8, 9, 10)\n",
    "\n",
    "even_numbers_tuple = tuple(x for x in original_tuple if x % 2 == 0)\n",
    "\n",
    "print(even_numbers_tuple)"
   ]
  },
  {
   "cell_type": "code",
   "execution_count": 96,
   "id": "22c4ee57-7be4-4d95-b20e-6640d00a252b",
   "metadata": {},
   "outputs": [
    {
     "name": "stdout",
     "output_type": "stream",
     "text": [
      "(2, 4, 6, 8, 10)\n"
     ]
    }
   ],
   "source": [
    "# 36. Multiply all elements in a tuple by 2.\n",
    "\n",
    "original_tuple = (1, 2, 3, 4, 5)\n",
    "\n",
    "doubled_tuple = tuple(x * 2 for x in original_tuple)\n",
    "\n",
    "print(doubled_tuple)"
   ]
  },
  {
   "cell_type": "code",
   "execution_count": 97,
   "id": "074b31c5-166e-448c-9f8a-6bad4a6970cb",
   "metadata": {},
   "outputs": [
    {
     "name": "stdout",
     "output_type": "stream",
     "text": [
      "(34, 14, 1, 85, 27)\n"
     ]
    }
   ],
   "source": [
    "# 37. Create a tuple of random numbers.\n",
    "\n",
    "import random\n",
    "\n",
    "# Define the range and the number of random numbers\n",
    "start_range = 1\n",
    "end_range = 100\n",
    "num_of_numbers = 5  # You can change this to the desired number of random numbers\n",
    "\n",
    "# Generate a tuple of random integers\n",
    "random_numbers = tuple(random.randint(start_range, end_range) for _ in range(num_of_numbers))\n",
    "\n",
    "print(random_numbers)"
   ]
  },
  {
   "cell_type": "code",
   "execution_count": 98,
   "id": "b1e6065f-c047-49a0-a191-22e9841672e2",
   "metadata": {},
   "outputs": [
    {
     "name": "stdout",
     "output_type": "stream",
     "text": [
      "True\n",
      "False\n",
      "False\n"
     ]
    }
   ],
   "source": [
    "# 38. Check if a tuple is sorted.\n",
    "\n",
    "def is_sorted(t):\n",
    "    # Use the sorted() function to create a sorted version of the tuple\n",
    "    sorted_t = tuple(sorted(t))\n",
    "    \n",
    "    # Compare the sorted tuple with the original tuple\n",
    "    if sorted_t == t:\n",
    "        return True\n",
    "    else:\n",
    "        return False\n",
    "\n",
    "# Test cases\n",
    "tuple1 = (1, 2, 3, 4, 5)\n",
    "tuple2 = (5, 4, 3, 2, 1)\n",
    "tuple3 = (3, 1, 4, 1, 5, 9, 2, 6, 5, 3, 5)\n",
    "\n",
    "print(is_sorted(tuple1))  # True\n",
    "print(is_sorted(tuple2))  # False\n",
    "print(is_sorted(tuple3))  # False"
   ]
  },
  {
   "cell_type": "code",
   "execution_count": 99,
   "id": "b49a5c0c-a903-4542-a3ac-85c851505640",
   "metadata": {},
   "outputs": [
    {
     "name": "stdout",
     "output_type": "stream",
     "text": [
      "(3, 4, 5, 1, 2)\n"
     ]
    }
   ],
   "source": [
    "# 39. Rotate a tuple to the left by `n` positions.\n",
    "\n",
    "def rotate_left_tuple(t, n):\n",
    "    # Calculate the effective rotation position within the length of the tuple\n",
    "    n = n % len(t)\n",
    "    \n",
    "    # Slice the original tuple to create a rotated tuple\n",
    "    rotated_tuple = t[n:] + t[:n]\n",
    "    \n",
    "    return rotated_tuple\n",
    "\n",
    "# Test case\n",
    "original_tuple = (1, 2, 3, 4, 5)\n",
    "rotated_tuple = rotate_left_tuple(original_tuple, 2)\n",
    "print(rotated_tuple)  # Output: (3, 4, 5, 1, 2)"
   ]
  },
  {
   "cell_type": "code",
   "execution_count": 100,
   "id": "454c932e-a0ed-4a1d-bb0f-0f6f1bdbeef8",
   "metadata": {},
   "outputs": [
    {
     "name": "stdout",
     "output_type": "stream",
     "text": [
      "(4, 5, 1, 2, 3)\n"
     ]
    }
   ],
   "source": [
    "# 40. Rotate a tuple to the right by `n` positions.\n",
    "\n",
    "def rotate_right_tuple(t, n):\n",
    "    # Calculate the effective rotation position within the length of the tuple\n",
    "    n = n % len(t)\n",
    "    \n",
    "    # Slice the original tuple in reverse order to create a rotated tuple\n",
    "    rotated_tuple = t[-n:] + t[:-n]\n",
    "    \n",
    "    return rotated_tuple\n",
    "\n",
    "# Test case\n",
    "original_tuple = (1, 2, 3, 4, 5)\n",
    "rotated_tuple = rotate_right_tuple(original_tuple, 2)\n",
    "print(rotated_tuple)  # Output: (4, 5, 1, 2, 3)"
   ]
  },
  {
   "cell_type": "code",
   "execution_count": 1,
   "id": "4b869010-9c28-4065-bf85-3db47405b10c",
   "metadata": {},
   "outputs": [
    {
     "name": "stdout",
     "output_type": "stream",
     "text": [
      "(0, 1, 1, 2, 3)\n"
     ]
    }
   ],
   "source": [
    "# 41. Create a tuple of the first 5 Fibonacci numbers.\n",
    "\n",
    "# Function to generate Fibonacci numbers\n",
    "def generate_fibonacci(n):\n",
    "    fibonacci = [0, 1]\n",
    "    while len(fibonacci) < n:\n",
    "        next_number = fibonacci[-1] + fibonacci[-2]\n",
    "        fibonacci.append(next_number)\n",
    "    return tuple(fibonacci)\n",
    "\n",
    "# Create a tuple of the first 5 Fibonacci numbers\n",
    "fibonacci_tuple = generate_fibonacci(5)\n",
    "\n",
    "print(fibonacci_tuple)"
   ]
  },
  {
   "cell_type": "code",
   "execution_count": 2,
   "id": "5cf8f5b9-bcc7-4e7e-9619-b0c781ddc5f1",
   "metadata": {},
   "outputs": [
    {
     "name": "stdin",
     "output_type": "stream",
     "text": [
      "Enter elements separated by spaces:  ravi kumar pal\n"
     ]
    },
    {
     "name": "stdout",
     "output_type": "stream",
     "text": [
      "Tuple created from user input: ('ravi', 'kumar', 'pal')\n"
     ]
    }
   ],
   "source": [
    "# 42. Create a tuple from user input.\n",
    "\n",
    "# Take user input fr elements of the tuple\n",
    "input_values = input(\"Enter elements separated by spaces: \")\n",
    "\n",
    "# Split the input values and convert them into a tuple\n",
    "user_tuple = tuple(input_values.split())\n",
    "\n",
    "# Print the resulting tuple\n",
    "print(\"Tuple created from user input:\", user_tuple)\n"
   ]
  },
  {
   "cell_type": "code",
   "execution_count": 3,
   "id": "fd0cb5e7-75a5-4785-8351-7dbc0aa4288a",
   "metadata": {},
   "outputs": [
    {
     "name": "stdout",
     "output_type": "stream",
     "text": [
      "Swapped Tuple: (1, 4, 3, 2, 5)\n"
     ]
    }
   ],
   "source": [
    "# 43. Swap two elements in a tuple.\n",
    "\n",
    "# Sample tuple\n",
    "my_tuple = (1, 2, 3, 4, 5)\n",
    "\n",
    "# Convert the tuple to a list\n",
    "my_list = list(my_tuple)\n",
    "\n",
    "# Swap elements at positions 1 and 3 (0-based index)\n",
    "my_list[1], my_list[3] = my_list[3], my_list[1]\n",
    "\n",
    "# Convert the list back to a tuple\n",
    "my_swapped_tuple = tuple(my_list)\n",
    "\n",
    "# Print the swapped tuple\n",
    "print(\"Swapped Tuple:\", my_swapped_tuple)"
   ]
  },
  {
   "cell_type": "code",
   "execution_count": 4,
   "id": "a945b775-a7cc-4331-afb5-44f2306e4233",
   "metadata": {},
   "outputs": [
    {
     "name": "stdout",
     "output_type": "stream",
     "text": [
      "Reversed Tuple: (5, 4, 3, 2, 1)\n"
     ]
    }
   ],
   "source": [
    "# 44. Reverse the elements of a tuple.\n",
    "\n",
    "# Sample tuple\n",
    "my_tuple = (1, 2, 3, 4, 5)\n",
    "\n",
    "# Reverse the elements and create a new tuple\n",
    "reversed_tuple = tuple(reversed(my_tuple))\n",
    "\n",
    "# Print the reversed tuple\n",
    "print(\"Reversed Tuple:\", reversed_tuple)"
   ]
  },
  {
   "cell_type": "code",
   "execution_count": 5,
   "id": "3eb5fb26-5bc8-40fb-9b1d-c425350fff4e",
   "metadata": {},
   "outputs": [
    {
     "name": "stdout",
     "output_type": "stream",
     "text": [
      "Powers of 2 Tuple: (1, 2, 4, 8, 16)\n"
     ]
    }
   ],
   "source": [
    "# 45. Create a tuple of the first `n` powers of 2.\n",
    "\n",
    "# Define the value of n\n",
    "n = 5\n",
    "\n",
    "# Create a tuple of the first n powers of 2\n",
    "powers_of_2_tuple = tuple(2 ** i for i in range(n))\n",
    "\n",
    "# Print the tuple\n",
    "print(\"Powers of 2 Tuple:\", powers_of_2_tuple)"
   ]
  },
  {
   "cell_type": "code",
   "execution_count": 6,
   "id": "cfb7ac7c-30fa-43bf-94f3-ae98f6586768",
   "metadata": {},
   "outputs": [
    {
     "name": "stdout",
     "output_type": "stream",
     "text": [
      "Longest String: elderberry\n"
     ]
    }
   ],
   "source": [
    "# 46. Find the longest string in a tuple of strings.\n",
    "\n",
    "# Define a tuple of strings\n",
    "tuple_of_strings = (\"apple\", \"banana\", \"cherry\", \"date\", \"elderberry\")\n",
    "\n",
    "# Find the longest string in the tuple\n",
    "longest_string = max(tuple_of_strings, key=len)\n",
    "\n",
    "# Print the longest string\n",
    "print(\"Longest String:\", longest_string)"
   ]
  },
  {
   "cell_type": "code",
   "execution_count": 7,
   "id": "1b44f8ac-285a-4e56-90d2-b3df1637b377",
   "metadata": {},
   "outputs": [
    {
     "name": "stdout",
     "output_type": "stream",
     "text": [
      "Shortest String: date\n"
     ]
    }
   ],
   "source": [
    "# 47. Find the shortest string in a tuple of strings.\n",
    "\n",
    "# Define a tuple of strings\n",
    "tuple_of_strings = (\"apple\", \"banana\", \"cherry\", \"date\", \"elderberry\")\n",
    "\n",
    "# Find the shortest string in the tuple\n",
    "shortest_string = min(tuple_of_strings, key=len)\n",
    "\n",
    "# Print the shortest string\n",
    "print(\"Shortest String:\", shortest_string)"
   ]
  },
  {
   "cell_type": "code",
   "execution_count": 8,
   "id": "813f436a-c9fa-4b85-ac53-9072e2762aa2",
   "metadata": {},
   "outputs": [
    {
     "name": "stdout",
     "output_type": "stream",
     "text": [
      "Tuple of Triangular Numbers: (1, 3, 6, 10, 15)\n"
     ]
    }
   ],
   "source": [
    "# 48. Create a tuple of the first `n` triangular numbers.\n",
    "\n",
    "# Function to calculate the nth triangular number\n",
    "def triangular_number(n):\n",
    "    return n * (n + 1) // 2\n",
    "\n",
    "# Number of triangular numbers to generate\n",
    "n = 5\n",
    "\n",
    "# Create a tuple of the first n triangular numbers\n",
    "triangular_numbers = tuple(triangular_number(i) for i in range(1, n + 1))\n",
    "\n",
    "# Print the tuple of triangular numbers\n",
    "print(\"Tuple of Triangular Numbers:\", triangular_numbers)"
   ]
  },
  {
   "cell_type": "code",
   "execution_count": 9,
   "id": "5cae09c7-c7d8-4a01-bcf3-315598a38d52",
   "metadata": {},
   "outputs": [
    {
     "name": "stdout",
     "output_type": "stream",
     "text": [
      "The sub_tuple is a subsequence of main_tuple.\n"
     ]
    }
   ],
   "source": [
    "# 49. Check if a tuple contains another tuple as a subsequence.\n",
    "\n",
    "def contains_subsequence(main_tuple, sub_tuple):\n",
    "    main_len = len(main_tuple)\n",
    "    sub_len = len(sub_tuple)\n",
    "    i = 0  # Index for main_tuple\n",
    "    j = 0  # Index for sub_tuple\n",
    "\n",
    "    while i < main_len and j < sub_len:\n",
    "        if main_tuple[i] == sub_tuple[j]:\n",
    "            j += 1\n",
    "        i += 1\n",
    "\n",
    "    # If j has reached the end of sub_tuple, it's a subsequence\n",
    "    return j == sub_len\n",
    "\n",
    "# Example usage\n",
    "main_tuple = (1, 2, 3, 4, 5, 6, 7, 8)\n",
    "sub_tuple = (3, 4, 5)\n",
    "\n",
    "if contains_subsequence(main_tuple, sub_tuple):\n",
    "    print(\"The sub_tuple is a subsequence of main_tuple.\")\n",
    "else:\n",
    "    print(\"The sub_tuple is not a subsequence of main_tuple.\")"
   ]
  },
  {
   "cell_type": "code",
   "execution_count": 10,
   "id": "faab5eaf-8d01-4b6d-8062-eac0e201eaf6",
   "metadata": {},
   "outputs": [
    {
     "name": "stdout",
     "output_type": "stream",
     "text": [
      "(0, 1, 0, 1, 0, 1, 0, 1, 0, 1)\n"
     ]
    }
   ],
   "source": [
    "# 50. Create a tuple of alternating 1s and 0s of length `n`.\n",
    "\n",
    "def alternating_ones_and_zeros(n):\n",
    "    result = ()\n",
    "    for i in range(n):\n",
    "        if i % 2 == 0:\n",
    "            result += (0,)\n",
    "        else:\n",
    "            result += (1,)\n",
    "    return result\n",
    "\n",
    "# Example usage\n",
    "n = 10\n",
    "result_tuple = alternating_ones_and_zeros(n)\n",
    "print(result_tuple)"
   ]
  },
  {
   "cell_type": "markdown",
   "id": "819cbe6f-b24e-415d-9d1d-01aa7f94bf34",
   "metadata": {},
   "source": [
    "# Set Based Practice Problem :"
   ]
  },
  {
   "cell_type": "code",
   "execution_count": 11,
   "id": "93f6b28a-33c6-4466-8566-8c61f8035e48",
   "metadata": {},
   "outputs": [],
   "source": [
    "# 1. Create a set with integers from 1 to 5.\n",
    "\n",
    "my_set = {1, 2, 3, 4, 5}"
   ]
  },
  {
   "cell_type": "code",
   "execution_count": 12,
   "id": "5f6ac675-dbbe-49cb-bbe9-85f2c8912756",
   "metadata": {},
   "outputs": [],
   "source": [
    "# 2. Add an element to a set.\n",
    "\n",
    "my_set = {1, 2, 3, 4, 5}\n",
    "my_set.add(6)  # Adding the element 6 to the set"
   ]
  },
  {
   "cell_type": "code",
   "execution_count": 13,
   "id": "a1fc4d3d-c238-4453-a89b-4c85187dc11d",
   "metadata": {},
   "outputs": [],
   "source": [
    "# 3. Remove an element from a set.\n",
    "\n",
    "my_set = {1, 2, 3, 4, 5}\n",
    "my_set.remove(3)  # Removes the element 3 from the set"
   ]
  },
  {
   "cell_type": "code",
   "execution_count": 14,
   "id": "110fd620-754f-47ab-9626-e5c9ab70d8b3",
   "metadata": {},
   "outputs": [
    {
     "name": "stdout",
     "output_type": "stream",
     "text": [
      "3 exists in the set.\n"
     ]
    }
   ],
   "source": [
    "# 4. Check if an element exists in a set.\n",
    "\n",
    "my_set = {1, 2, 3, 4, 5}\n",
    "\n",
    "# Check if an element exists in the set\n",
    "element_to_check = 3\n",
    "if element_to_check in my_set:\n",
    "    print(f\"{element_to_check} exists in the set.\")\n",
    "else:\n",
    "    print(f\"{element_to_check} does not exist in the set.\")"
   ]
  },
  {
   "cell_type": "code",
   "execution_count": 15,
   "id": "5a4295bc-ee8c-49d5-abca-6ef673da0236",
   "metadata": {},
   "outputs": [
    {
     "name": "stdout",
     "output_type": "stream",
     "text": [
      "The length of the set is: 5\n"
     ]
    }
   ],
   "source": [
    "# 5. Find the length of a set without using the `len()` function.\n",
    "\n",
    "my_set = {1, 2, 3, 4, 5}\n",
    "\n",
    "# Initialize a counter variable\n",
    "length = 0\n",
    "\n",
    "# Iterate through the set and count its elements\n",
    "for _ in my_set:\n",
    "    length += 1\n",
    "\n",
    "print(f\"The length of the set is: {length}\")"
   ]
  },
  {
   "cell_type": "code",
   "execution_count": 16,
   "id": "2333e403-1697-47fd-87b3-ca9763e48efc",
   "metadata": {},
   "outputs": [
    {
     "name": "stdout",
     "output_type": "stream",
     "text": [
      "Set after clearing: set()\n"
     ]
    }
   ],
   "source": [
    "# 6. Clear all elements from a set.\n",
    "\n",
    "my_set = {1, 2, 3, 4, 5}\n",
    "\n",
    "# Clear all elements from the set\n",
    "my_set.clear()\n",
    "\n",
    "print(\"Set after clearing:\", my_set)"
   ]
  },
  {
   "cell_type": "code",
   "execution_count": 17,
   "id": "88cfee81-6fb0-4eab-bd5e-5a69de900568",
   "metadata": {},
   "outputs": [
    {
     "name": "stdout",
     "output_type": "stream",
     "text": [
      "{2, 4, 6, 8, 10}\n"
     ]
    }
   ],
   "source": [
    "# 7. Create a set of even numbers from 1 to 10.\n",
    "\n",
    "# Create a set of even numbers from 1 to 10\n",
    "even_numbers = {x for x in range(1, 11) if x % 2 == 0}\n",
    "\n",
    "print(even_numbers)"
   ]
  },
  {
   "cell_type": "code",
   "execution_count": 18,
   "id": "87be01e4-1127-4117-adb5-482e45e4792c",
   "metadata": {},
   "outputs": [
    {
     "name": "stdout",
     "output_type": "stream",
     "text": [
      "{1, 3, 5, 7, 9}\n"
     ]
    }
   ],
   "source": [
    "# 8. Create a set of odd numbers from 1 to 10.\n",
    "\n",
    "# Create a set of odd numbers from 1 to 10\n",
    "odd_numbers = {x for x in range(1, 11) if x % 2 != 0}\n",
    "\n",
    "print(odd_numbers)"
   ]
  },
  {
   "cell_type": "code",
   "execution_count": 19,
   "id": "75392a38-0ae1-4be4-a403-1b0a761e84ad",
   "metadata": {},
   "outputs": [
    {
     "name": "stdout",
     "output_type": "stream",
     "text": [
      "{1, 2, 3, 4, 5, 6, 7}\n"
     ]
    }
   ],
   "source": [
    "# 9. Find the union of two sets.\n",
    "\n",
    "# Create two sets\n",
    "set1 = {1, 2, 3, 4, 5}\n",
    "set2 = {3, 4, 5, 6, 7}\n",
    "\n",
    "# Find the union of set1 and set2 using the | operator\n",
    "union_set = set1 | set2\n",
    "\n",
    "print(union_set)"
   ]
  },
  {
   "cell_type": "code",
   "execution_count": 22,
   "id": "814d8161-46e8-4023-abb0-f38cd5baa7c7",
   "metadata": {},
   "outputs": [
    {
     "name": "stdout",
     "output_type": "stream",
     "text": [
      "{3, 4, 5}\n"
     ]
    }
   ],
   "source": [
    "# 10. Find the intersection of two sets.\n",
    "# Create two sets\n",
    "set1 = {1, 2, 3, 4, 5}\n",
    "set2 = {3, 4, 5, 6, 7}\n",
    "\n",
    "# Find the intersection of set1 and set2 using the & operator\n",
    "intersection_set = set1 & set2\n",
    "\n",
    "print(intersection_set)"
   ]
  },
  {
   "cell_type": "code",
   "execution_count": 23,
   "id": "5e882ca1-ef61-411c-b4b3-541cf14597fa",
   "metadata": {},
   "outputs": [
    {
     "name": "stdout",
     "output_type": "stream",
     "text": [
      "{1, 2}\n"
     ]
    }
   ],
   "source": [
    "# 11. Find the difference between two sets.\n",
    "\n",
    "# Create two sets\n",
    "set1 = {1, 2, 3, 4, 5}\n",
    "set2 = {3, 4, 5, 6, 7}\n",
    "\n",
    "# Find the difference between set1 and set2 using the - operator\n",
    "difference_set = set1 - set2\n",
    "\n",
    "print(difference_set)"
   ]
  },
  {
   "cell_type": "code",
   "execution_count": 24,
   "id": "c23cf2d2-f22d-4b67-89a6-3c2e74efc635",
   "metadata": {},
   "outputs": [
    {
     "name": "stdout",
     "output_type": "stream",
     "text": [
      "True\n"
     ]
    }
   ],
   "source": [
    "# 12. Check if a set is a subset of another set.\n",
    "\n",
    "# Create two sets\n",
    "set1 = {1, 2, 3}\n",
    "set2 = {1, 2, 3, 4, 5}\n",
    "\n",
    "# Check if set1 is a subset of set2 using the <= operator\n",
    "is_subset = set1 <= set2\n",
    "\n",
    "print(is_subset)"
   ]
  },
  {
   "cell_type": "code",
   "execution_count": 25,
   "id": "0ed66f60-717b-40b7-97b8-64b8a2276e58",
   "metadata": {},
   "outputs": [
    {
     "name": "stdout",
     "output_type": "stream",
     "text": [
      "True\n"
     ]
    }
   ],
   "source": [
    "# 13. Check if a set is a superset of another set.\n",
    "\n",
    "# Create two sets\n",
    "set1 = {1, 2, 3, 4, 5}\n",
    "set2 = {1, 2, 3}\n",
    "\n",
    "# Check if set1 is a superset of set2 using the >= operator\n",
    "is_superset = set1 >= set2\n",
    "\n",
    "print(is_superset)"
   ]
  },
  {
   "cell_type": "code",
   "execution_count": 26,
   "id": "6ee501e9-031b-4046-a8cb-8b41e5e39de4",
   "metadata": {},
   "outputs": [
    {
     "name": "stdout",
     "output_type": "stream",
     "text": [
      "{1, 2, 3, 4, 5}\n"
     ]
    }
   ],
   "source": [
    "# 14. Create a set from a list.\n",
    "\n",
    "# Create a list\n",
    "my_list = [1, 2, 3, 4, 5]\n",
    "\n",
    "# Convert the list to a set\n",
    "my_set = set(my_list)\n",
    "\n",
    "print(my_set)"
   ]
  },
  {
   "cell_type": "code",
   "execution_count": 27,
   "id": "4cdeeff3-2d3e-4266-a29e-36d837554cda",
   "metadata": {},
   "outputs": [
    {
     "name": "stdout",
     "output_type": "stream",
     "text": [
      "[1, 2, 3, 4, 5]\n"
     ]
    }
   ],
   "source": [
    "# 15. Convert a set to a list.\n",
    "\n",
    "# Create a set\n",
    "my_set = {1, 2, 3, 4, 5}\n",
    "\n",
    "# Convert the set to a list\n",
    "my_list = list(my_set)\n",
    "\n",
    "print(my_list)"
   ]
  },
  {
   "cell_type": "code",
   "execution_count": 28,
   "id": "c1f3bc13-ee86-4abf-821c-eb5344ec9d58",
   "metadata": {},
   "outputs": [
    {
     "name": "stdout",
     "output_type": "stream",
     "text": [
      "Removed element: 1\n",
      "Updated set: {2, 3, 4, 5}\n"
     ]
    }
   ],
   "source": [
    "# 16. Remove a random element from a set.\n",
    "\n",
    "# Create a set\n",
    "my_set = {1, 2, 3, 4, 5}\n",
    "\n",
    "# Remove a random element\n",
    "random_element = my_set.pop()\n",
    "\n",
    "print(f\"Removed element: {random_element}\")\n",
    "print(f\"Updated set: {my_set}\")"
   ]
  },
  {
   "cell_type": "code",
   "execution_count": 29,
   "id": "76bcf2f9-d691-4b81-ab91-b5b7611ddb54",
   "metadata": {},
   "outputs": [
    {
     "name": "stdout",
     "output_type": "stream",
     "text": [
      "Popped element: 1\n",
      "Updated set: {2, 3, 4, 5}\n"
     ]
    }
   ],
   "source": [
    "# 17. Pop an element from a set.\n",
    "\n",
    "# Create a set\n",
    "my_set = {1, 2, 3, 4, 5}\n",
    "\n",
    "# Pop an element\n",
    "popped_element = my_set.pop()\n",
    "\n",
    "print(f\"Popped element: {popped_element}\")\n",
    "print(f\"Updated set: {my_set}\")"
   ]
  },
  {
   "cell_type": "code",
   "execution_count": 31,
   "id": "98fb8278-abf2-45a9-98a7-3021024713e9",
   "metadata": {},
   "outputs": [
    {
     "name": "stdout",
     "output_type": "stream",
     "text": [
      "The sets are disjoint (have no elements in common)\n"
     ]
    }
   ],
   "source": [
    "# 18. Check if two sets have no elements in common.\n",
    "\n",
    "# Create two sets\n",
    "set1 = {1, 2, 3, 4, 5}\n",
    "set2 = {6, 7, 8, 9, 10}\n",
    "\n",
    "# Check if the sets are disjoint (have no elements in common)\n",
    "are_disjoint = set1.isdisjoint(set2)\n",
    "\n",
    "if are_disjoint:\n",
    "    print(\"The sets are disjoint (have no elements in common)\")\n",
    "else:\n",
    "    print(\"The sets have elements in common\")"
   ]
  },
  {
   "cell_type": "code",
   "execution_count": 32,
   "id": "746f936f-8432-4746-8e9c-05b73592c2d5",
   "metadata": {},
   "outputs": [
    {
     "name": "stdout",
     "output_type": "stream",
     "text": [
      "{1, 2, 3, 6, 7, 8}\n"
     ]
    }
   ],
   "source": [
    "# 19. Find the symmetric difference between two sets.\n",
    "\n",
    "# Create two sets\n",
    "set1 = {1, 2, 3, 4, 5}\n",
    "set2 = {4, 5, 6, 7, 8}\n",
    "\n",
    "# Find the symmetric difference\n",
    "symmetric_diff = set1 ^ set2\n",
    "\n",
    "print(symmetric_diff)"
   ]
  },
  {
   "cell_type": "code",
   "execution_count": 33,
   "id": "6015988b-8f86-462b-9337-1458cf4a2e62",
   "metadata": {},
   "outputs": [
    {
     "name": "stdout",
     "output_type": "stream",
     "text": [
      "{1, 2, 3, 4, 5}\n"
     ]
    }
   ],
   "source": [
    "# 20. Update a set with elements from another set.\n",
    "\n",
    "# Create two sets\n",
    "set1 = {1, 2, 3}\n",
    "set2 = {3, 4, 5}\n",
    "\n",
    "# Update set1 with elements from set2\n",
    "set1.update(set2)\n",
    "\n",
    "print(set1)"
   ]
  },
  {
   "cell_type": "code",
   "execution_count": 34,
   "id": "d14df9f3-9270-4a47-87c3-c798abafbad1",
   "metadata": {},
   "outputs": [
    {
     "name": "stdout",
     "output_type": "stream",
     "text": [
      "{2, 3, 5, 7, 11}\n"
     ]
    }
   ],
   "source": [
    "# 21. Create a set of the first 5 prime numbers.\n",
    "\n",
    "# Create a set of the first 5 prime numbers\n",
    "prime_numbers = {2, 3, 5, 7, 11}\n",
    "\n",
    "print(prime_numbers)"
   ]
  },
  {
   "cell_type": "code",
   "execution_count": 35,
   "id": "497d12c4-fc76-4f2d-8782-6159d602cbdb",
   "metadata": {},
   "outputs": [
    {
     "name": "stdout",
     "output_type": "stream",
     "text": [
      "The sets are identical.\n"
     ]
    }
   ],
   "source": [
    "# 22. Check if two sets are identical.\n",
    "\n",
    "# Define two sets\n",
    "set1 = {1, 2, 3, 4, 5}\n",
    "set2 = {5, 4, 3, 2, 1}\n",
    "\n",
    "# Check if the sets are identical\n",
    "if set1 == set2:\n",
    "    print(\"The sets are identical.\")\n",
    "else:\n",
    "    print(\"The sets are not identical.\")"
   ]
  },
  {
   "cell_type": "code",
   "execution_count": 36,
   "id": "c753334c-50d8-4195-b769-06e8f99fcb96",
   "metadata": {},
   "outputs": [
    {
     "name": "stdout",
     "output_type": "stream",
     "text": [
      "frozenset({1, 2, 3, 4, 5})\n"
     ]
    }
   ],
   "source": [
    "# 23. Create a frozen set.\n",
    "\n",
    "# Create a regular set\n",
    "my_set = {1, 2, 3, 4, 5}\n",
    "\n",
    "# Convert the regular set to a frozen set\n",
    "frozen_set = frozenset(my_set)\n",
    "\n",
    "# Display the frozen set\n",
    "print(frozen_set)"
   ]
  },
  {
   "cell_type": "code",
   "execution_count": 37,
   "id": "1d1bba28-60e8-429b-9bf8-e629e905580d",
   "metadata": {},
   "outputs": [
    {
     "name": "stdout",
     "output_type": "stream",
     "text": [
      "The sets are disjoint.\n"
     ]
    }
   ],
   "source": [
    "# 24. Check if a set is disjoint with another set.\n",
    "\n",
    "# Create two sets\n",
    "set1 = {1, 2, 3, 4, 5}\n",
    "set2 = {6, 7, 8, 9, 10}\n",
    "\n",
    "# Check if the sets are disjoint\n",
    "disjoint = set1.isdisjoint(set2)\n",
    "\n",
    "# Display the result\n",
    "if disjoint:\n",
    "    print(\"The sets are disjoint.\")\n",
    "else:\n",
    "    print(\"The sets have some common elements.\")"
   ]
  },
  {
   "cell_type": "code",
   "execution_count": 38,
   "id": "11a40592-0c86-48a5-aadc-3d67a2a2d90d",
   "metadata": {},
   "outputs": [
    {
     "name": "stdout",
     "output_type": "stream",
     "text": [
      "{1, 4, 9, 16, 25}\n"
     ]
    }
   ],
   "source": [
    "# 25. Create a set of squares of numbers from 1 to 5.\n",
    "\n",
    "# Create a set of squares using set comprehension\n",
    "squares_set = {x ** 2 for x in range(1, 6)}\n",
    "\n",
    "# Display the set of squares\n",
    "print(squares_set)"
   ]
  },
  {
   "cell_type": "code",
   "execution_count": 39,
   "id": "4d6ec815-7ca5-4122-99c0-257a4b071908",
   "metadata": {},
   "outputs": [
    {
     "name": "stdout",
     "output_type": "stream",
     "text": [
      "{2, 4, 6, 8, 10}\n"
     ]
    }
   ],
   "source": [
    "# 26. Filter out all even numbers from a set.\n",
    "\n",
    "# Create a set with some numbers\n",
    "numbers_set = {1, 2, 3, 4, 5, 6, 7, 8, 9, 10}\n",
    "\n",
    "# Use set comprehension to filter out even numbers\n",
    "even_numbers_set = {x for x in numbers_set if x % 2 == 0}\n",
    "\n",
    "# Display the set of even numbers\n",
    "print(even_numbers_set)"
   ]
  },
  {
   "cell_type": "code",
   "execution_count": 40,
   "id": "5e500f42-7339-468e-9f96-a083bd6e0924",
   "metadata": {},
   "outputs": [
    {
     "name": "stdout",
     "output_type": "stream",
     "text": [
      "{2, 4, 6, 8, 10}\n"
     ]
    }
   ],
   "source": [
    "# 27. Multiply all elements in a set by 2.\n",
    "\n",
    "# Create a set with some numbers\n",
    "numbers_set = {1, 2, 3, 4, 5}\n",
    "\n",
    "# Convert the set to a list\n",
    "numbers_list = list(numbers_set)\n",
    "\n",
    "# Multiply all elements in the list by 2\n",
    "doubled_numbers_list = [x * 2 for x in numbers_list]\n",
    "\n",
    "# Create a new set from the modified list\n",
    "doubled_numbers_set = set(doubled_numbers_list)\n",
    "\n",
    "# Display the doubled_numbers_set\n",
    "print(doubled_numbers_set)"
   ]
  },
  {
   "cell_type": "code",
   "execution_count": 41,
   "id": "67ed19af-86ec-4f41-8ae7-50a84aa4b11e",
   "metadata": {},
   "outputs": [
    {
     "name": "stdout",
     "output_type": "stream",
     "text": [
      "{100, 38, 46, 14, 83}\n"
     ]
    }
   ],
   "source": [
    "# 28. Create a set of random numbers.\n",
    "\n",
    "import random\n",
    "\n",
    "# Generate a set of 5 random integers between 1 and 100 (inclusive)\n",
    "random_numbers_set = set(random.sample(range(1, 101), 5))\n",
    "\n",
    "# Display the random numbers set\n",
    "print(random_numbers_set)"
   ]
  },
  {
   "cell_type": "code",
   "execution_count": 42,
   "id": "d794ac94-e925-4a47-add2-5e277f235a7a",
   "metadata": {},
   "outputs": [
    {
     "name": "stdout",
     "output_type": "stream",
     "text": [
      "The set is empty.\n"
     ]
    }
   ],
   "source": [
    "# 29. Check if a set is empty.\n",
    "\n",
    "# Create an empty set\n",
    "empty_set = set()\n",
    "\n",
    "# Check if the set is empty\n",
    "if not empty_set:\n",
    "    print(\"The set is empty.\")\n",
    "else:\n",
    "    print(\"The set is not empty.\")"
   ]
  },
  {
   "cell_type": "code",
   "execution_count": 43,
   "id": "b9e82a8c-57ab-4631-8f08-0252010e547a",
   "metadata": {},
   "outputs": [
    {
     "name": "stdout",
     "output_type": "stream",
     "text": [
      "frozenset({frozenset({3, 4, 5}), frozenset({6, 7}), frozenset({1, 2})})\n"
     ]
    }
   ],
   "source": [
    "# 30. Create a nested set (hint: use frozenset).\n",
    "\n",
    "# Create a nested set using frozenset\n",
    "nested_set = frozenset({frozenset({1, 2}), frozenset({3, 4, 5}), frozenset({6, 7})})\n",
    "\n",
    "# Print the nested set\n",
    "print(nested_set)"
   ]
  },
  {
   "cell_type": "code",
   "execution_count": 44,
   "id": "e6a2602a-baa8-45c9-bd36-9e9bcdd67c76",
   "metadata": {},
   "outputs": [
    {
     "name": "stdout",
     "output_type": "stream",
     "text": [
      "{1, 2, 4, 5}\n"
     ]
    }
   ],
   "source": [
    "# 31. Remove an element from a set using the discard method.\n",
    "\n",
    "# Create a set\n",
    "my_set = {1, 2, 3, 4, 5}\n",
    "\n",
    "# Remove an element using discard\n",
    "my_set.discard(3)\n",
    "\n",
    "# Print the updated set\n",
    "print(my_set)"
   ]
  },
  {
   "cell_type": "code",
   "execution_count": 45,
   "id": "bdb2d09c-c44c-45d9-88e6-4d0173635af1",
   "metadata": {},
   "outputs": [
    {
     "name": "stdout",
     "output_type": "stream",
     "text": [
      "Sets are equal\n"
     ]
    }
   ],
   "source": [
    "# 32. Compare two sets.\n",
    "\n",
    "set1 = {1, 2, 3}\n",
    "set2 = {3, 2, 1}\n",
    "\n",
    "if set1 == set2:\n",
    "    print(\"Sets are equal\")\n",
    "else:\n",
    "    print(\"Sets are not equal\")"
   ]
  },
  {
   "cell_type": "code",
   "execution_count": 46,
   "id": "974135ed-dd36-48bf-8dde-946305d1889b",
   "metadata": {},
   "outputs": [
    {
     "name": "stdout",
     "output_type": "stream",
     "text": [
      "{'y', 'n', 'h', 'o', 'P', 't'}\n"
     ]
    }
   ],
   "source": [
    "# 33. Create a set from a string.\n",
    "\n",
    "# Create an empty set\n",
    "char_set = set()\n",
    "\n",
    "# Your input string\n",
    "input_string = \"Python\"\n",
    "\n",
    "# Iterate over the characters in the string and add them to the set\n",
    "for char in input_string:\n",
    "    char_set.add(char)\n",
    "\n",
    "print(char_set)"
   ]
  },
  {
   "cell_type": "code",
   "execution_count": 47,
   "id": "b21074d3-689e-4b95-80eb-d3ebeceac243",
   "metadata": {},
   "outputs": [
    {
     "name": "stdout",
     "output_type": "stream",
     "text": [
      "{1, 2, 3, 4, 5}\n"
     ]
    }
   ],
   "source": [
    "# 34. Convert a set of strings to a set of integers.\n",
    "\n",
    "# Create a set of strings\n",
    "string_set = {\"1\", \"2\", \"3\", \"4\", \"5\"}\n",
    "\n",
    "# Create an empty set for integers\n",
    "int_set = set()\n",
    "\n",
    "# Iterate over the elements in the string set and convert them to integers\n",
    "for element in string_set:\n",
    "    int_set.add(int(element))\n",
    "\n",
    "print(int_set)"
   ]
  },
  {
   "cell_type": "code",
   "execution_count": 48,
   "id": "f9b400db-b5e6-42f1-89f4-ce1d569c7eee",
   "metadata": {},
   "outputs": [
    {
     "name": "stdout",
     "output_type": "stream",
     "text": [
      "{'1', '4', '5', '3', '2'}\n"
     ]
    }
   ],
   "source": [
    "# 35. Convert a set of integers to a set of strings.\n",
    "\n",
    "# Create a set of integers\n",
    "int_set = {1, 2, 3, 4, 5}\n",
    "\n",
    "# Create an empty set for strings\n",
    "string_set = set()\n",
    "\n",
    "# Iterate over the elements in the integer set and convert them to strings\n",
    "for element in int_set:\n",
    "    string_set.add(str(element))\n",
    "\n",
    "print(string_set)"
   ]
  },
  {
   "cell_type": "code",
   "execution_count": 49,
   "id": "22403d64-47cb-41c5-ac24-bab43dfe81f6",
   "metadata": {},
   "outputs": [
    {
     "name": "stdout",
     "output_type": "stream",
     "text": [
      "{1, 2, 3, 4, 5}\n"
     ]
    }
   ],
   "source": [
    "# 36. Create a set from a tuple.\n",
    "\n",
    "# Create a tuple\n",
    "my_tuple = (1, 2, 3, 4, 5)\n",
    "\n",
    "# Convert the tuple to a set\n",
    "my_set = set(my_tuple)\n",
    "\n",
    "print(my_set)"
   ]
  },
  {
   "cell_type": "code",
   "execution_count": 50,
   "id": "d6935e38-85c6-4aa6-bef5-57c0d7c2d295",
   "metadata": {},
   "outputs": [
    {
     "name": "stdout",
     "output_type": "stream",
     "text": [
      "(1, 2, 3, 4, 5)\n"
     ]
    }
   ],
   "source": [
    "# 37. Convert a set to a tuple.\n",
    "\n",
    "# Create a set\n",
    "my_set = {1, 2, 3, 4, 5}\n",
    "\n",
    "# Convert the set to a tuple\n",
    "my_tuple = tuple(my_set)\n",
    "\n",
    "print(my_tuple)"
   ]
  },
  {
   "cell_type": "code",
   "execution_count": 51,
   "id": "366e4fe9-8ef8-441e-b0fe-f6df786b44d2",
   "metadata": {},
   "outputs": [
    {
     "name": "stdout",
     "output_type": "stream",
     "text": [
      "Maximum value in the set: 50\n"
     ]
    }
   ],
   "source": [
    "# 38. Find the maximum value in a set.\n",
    "\n",
    "# Create a set\n",
    "my_set = {10, 20, 30, 40, 50}\n",
    "\n",
    "# Find the maximum value in the set\n",
    "max_value = max(my_set)\n",
    "\n",
    "print(\"Maximum value in the set:\", max_value)"
   ]
  },
  {
   "cell_type": "code",
   "execution_count": 52,
   "id": "1525a307-91d8-4824-9795-a5b7254fde92",
   "metadata": {},
   "outputs": [
    {
     "name": "stdout",
     "output_type": "stream",
     "text": [
      "Minimum value in the set: 10\n"
     ]
    }
   ],
   "source": [
    "# 39. Find the minimum value in a set.\n",
    "\n",
    "# Create a set\n",
    "my_set = {10, 20, 30, 40, 50}\n",
    "\n",
    "# Find the minimum value in the set\n",
    "min_value = min(my_set)\n",
    "\n",
    "print(\"Minimum value in the set:\", min_value)"
   ]
  },
  {
   "cell_type": "code",
   "execution_count": 53,
   "id": "df611dfa-74cd-4132-9b5e-96a12140d299",
   "metadata": {},
   "outputs": [
    {
     "name": "stdin",
     "output_type": "stream",
     "text": [
      "Enter elements separated by spaces:  ravi kumar pal\n"
     ]
    },
    {
     "name": "stdout",
     "output_type": "stream",
     "text": [
      "Set created from user input: {'kumar', 'ravi', 'pal'}\n"
     ]
    }
   ],
   "source": [
    "# 40. Create a set from user input.\n",
    "\n",
    "# Get user input as a string\n",
    "user_input = input(\"Enter elements separated by spaces: \")\n",
    "\n",
    "# Split the input string into a list of elements\n",
    "input_list = user_input.split()\n",
    "\n",
    "# Convert the list of elements to a set\n",
    "user_set = set(input_list)\n",
    "\n",
    "# Print the resulting set\n",
    "print(\"Set created from user input:\", user_set)"
   ]
  },
  {
   "cell_type": "code",
   "execution_count": 54,
   "id": "31819cf7-e096-47e4-9cb8-f6c5beecffa3",
   "metadata": {},
   "outputs": [
    {
     "name": "stdout",
     "output_type": "stream",
     "text": [
      "The intersection of set1 and set2 is not empty.\n"
     ]
    }
   ],
   "source": [
    "# 41. Check if the intersection of two sets is empty.\n",
    "\n",
    "# Create two sets\n",
    "set1 = {1, 2, 3, 4, 5}\n",
    "set2 = {4, 5, 6, 7, 8}\n",
    "\n",
    "# Check if the intersection is empty\n",
    "if set1.isdisjoint(set2):\n",
    "    print(\"The intersection of set1 and set2 is empty.\")\n",
    "else:\n",
    "    print(\"The intersection of set1 and set2 is not empty.\")"
   ]
  },
  {
   "cell_type": "code",
   "execution_count": 55,
   "id": "1d268c32-0f77-4a9d-8a94-754a9b7a750b",
   "metadata": {},
   "outputs": [
    {
     "name": "stdout",
     "output_type": "stream",
     "text": [
      "{0, 1, 2, 3, 5}\n"
     ]
    }
   ],
   "source": [
    "# 42. Create a set of the first 5 Fibonacci numbers.\n",
    "\n",
    "# Function to generate Fibonacci numbers\n",
    "def generate_fibonacci(n):\n",
    "    fibonacci_set = set()\n",
    "    a, b = 0, 1\n",
    "    while len(fibonacci_set) < n:\n",
    "        fibonacci_set.add(a)\n",
    "        a, b = b, a + b\n",
    "    return fibonacci_set\n",
    "\n",
    "# Create a set of the first 5 Fibonacci numbers\n",
    "first_5_fibonacci = generate_fibonacci(5)\n",
    "\n",
    "# Print the set\n",
    "print(first_5_fibonacci)"
   ]
  },
  {
   "cell_type": "code",
   "execution_count": 56,
   "id": "e3209d0a-3745-49a5-ad19-d87250d75f3d",
   "metadata": {},
   "outputs": [
    {
     "name": "stdout",
     "output_type": "stream",
     "text": [
      "[1, 2, 3, 4, 5]\n"
     ]
    }
   ],
   "source": [
    "# 43. Remove duplicates from a list using sets.\n",
    "\n",
    "# Create a list with duplicates\n",
    "my_list = [1, 2, 2, 3, 4, 4, 5, 5]\n",
    "\n",
    "# Remove duplicates using a set\n",
    "my_list_without_duplicates = list(set(my_list))\n",
    "\n",
    "# Print the list without duplicates\n",
    "print(my_list_without_duplicates)"
   ]
  },
  {
   "cell_type": "code",
   "execution_count": 57,
   "id": "9adda0a7-195b-49bd-b8eb-1983a48dc042",
   "metadata": {},
   "outputs": [
    {
     "name": "stdout",
     "output_type": "stream",
     "text": [
      "The sets have the same elements.\n"
     ]
    }
   ],
   "source": [
    "# 44. Check if two sets have the same elements, regardless of their count.\n",
    "\n",
    "# Create two sets\n",
    "set1 = {1, 2, 3, 4, 5}\n",
    "set2 = {5, 4, 3, 2, 1}\n",
    "\n",
    "# Check if the sets have the same elements (order doesn't matter)\n",
    "if set1 == set2:\n",
    "    print(\"The sets have the same elements.\")\n",
    "else:\n",
    "    print(\"The sets do not have the same elements.\")"
   ]
  },
  {
   "cell_type": "code",
   "execution_count": 58,
   "id": "2e9cd0f1-8ddb-4998-ad8b-39b2a865ab29",
   "metadata": {},
   "outputs": [
    {
     "name": "stdout",
     "output_type": "stream",
     "text": [
      "{1, 2, 4, 8, 16}\n"
     ]
    }
   ],
   "source": [
    "# 45. Create a set of the first `n` powers of 2.\n",
    "\n",
    "n = 5  # Change this to the desired number of powers\n",
    "\n",
    "# Create an empty set to store the powers of 2\n",
    "powers_of_2 = set()\n",
    "\n",
    "# Calculate and add the powers of 2 to the set\n",
    "for i in range(n):\n",
    "    power = 2 ** i\n",
    "    powers_of_2.add(power)\n",
    "\n",
    "# Print the set of powers of 2\n",
    "print(powers_of_2)"
   ]
  },
  {
   "cell_type": "code",
   "execution_count": 59,
   "id": "4b47a1c9-d731-4c7a-a832-cc4623e09ce1",
   "metadata": {},
   "outputs": [
    {
     "name": "stdout",
     "output_type": "stream",
     "text": [
      "{3, 4, 5}\n"
     ]
    }
   ],
   "source": [
    "# 46. Find the common elements between a set and a list.\n",
    "\n",
    "# Create a set\n",
    "my_set = {1, 2, 3, 4, 5}\n",
    "\n",
    "# Create a list\n",
    "my_list = [3, 4, 5, 6, 7]\n",
    "\n",
    "# Convert the list to a set\n",
    "list_as_set = set(my_list)\n",
    "\n",
    "# Find the common elements between the set and the list\n",
    "common_elements = my_set & list_as_set\n",
    "\n",
    "# Print the common elements\n",
    "print(common_elements)"
   ]
  },
  {
   "cell_type": "code",
   "execution_count": 60,
   "id": "a2d6466d-26d4-48e5-b0ce-29862268e9c2",
   "metadata": {},
   "outputs": [
    {
     "name": "stdin",
     "output_type": "stream",
     "text": [
      "Enter the value of n:  5\n"
     ]
    },
    {
     "name": "stdout",
     "output_type": "stream",
     "text": [
      "Set of the first 5 triangular numbers: {1, 3, 6, 10, 15}\n"
     ]
    }
   ],
   "source": [
    "# 47. Create a set of the first `n` triangular numbers.\n",
    "\n",
    "# Function to calculate the nth triangular number\n",
    "def triangular_number(n):\n",
    "    return n * (n + 1) // 2\n",
    "\n",
    "# Input the value of n\n",
    "n = int(input(\"Enter the value of n: \"))\n",
    "\n",
    "# Create a set to store the triangular numbers\n",
    "triangular_numbers = set()\n",
    "\n",
    "# Calculate and add the first n triangular numbers to the set\n",
    "for i in range(1, n + 1):\n",
    "    tn = triangular_number(i)\n",
    "    triangular_numbers.add(tn)\n",
    "\n",
    "# Print the set of triangular numbers\n",
    "print(\"Set of the first\", n, \"triangular numbers:\", triangular_numbers)"
   ]
  },
  {
   "cell_type": "code",
   "execution_count": 61,
   "id": "ec16c898-4219-4ac7-942f-d01981fbb105",
   "metadata": {},
   "outputs": [
    {
     "name": "stdout",
     "output_type": "stream",
     "text": [
      "set2 is a subset of set1\n"
     ]
    }
   ],
   "source": [
    "# 48. Check if a set contains another set as a subset.\n",
    "\n",
    "# Define two sets\n",
    "set1 = {1, 2, 3, 4, 5}\n",
    "set2 = {2, 3}\n",
    "\n",
    "# Check if set2 is a subset of set1\n",
    "# Using the issubset() method\n",
    "is_subset = set2.issubset(set1)\n",
    "\n",
    "# Alternatively, you can use the <= operator\n",
    "# is_subset = set2 <= set1\n",
    "\n",
    "if is_subset:\n",
    "    print(\"set2 is a subset of set1\")\n",
    "else:\n",
    "    print(\"set2 is not a subset of set1\")"
   ]
  },
  {
   "cell_type": "code",
   "execution_count": 67,
   "id": "a9a04372-789b-486f-8521-dbbecce2a2b1",
   "metadata": {},
   "outputs": [
    {
     "name": "stdout",
     "output_type": "stream",
     "text": [
      "{0, 1}\n"
     ]
    }
   ],
   "source": [
    "# 49. Create a set of alternating 1s and 0s of length `n`.\n",
    "\n",
    "# Define the length of the set\n",
    "n = 10\n",
    "\n",
    "# Create a set of alternating 1s and 0s\n",
    "alternating_set = {1 if i % 2 == 0 else 0 for i in range(n)}\n",
    "\n",
    "# Print the resulting set\n",
    "print(alternating_set)"
   ]
  },
  {
   "cell_type": "code",
   "execution_count": 68,
   "id": "9ba48adc-01f2-45fe-a057-af45938b4cc3",
   "metadata": {},
   "outputs": [
    {
     "name": "stdout",
     "output_type": "stream",
     "text": [
      "{1, 2, 3, 4, 5, 6, 7}\n"
     ]
    }
   ],
   "source": [
    "# 50. Merge multiple sets into one.\n",
    "\n",
    "# Create multiple sets\n",
    "set1 = {1, 2, 3}\n",
    "set2 = {3, 4, 5}\n",
    "set3 = {5, 6, 7}\n",
    "\n",
    "# Merge the sets using the union() method\n",
    "merged_set = set1.union(set2).union(set3)\n",
    "\n",
    "# Alternatively, you can use the | operator:\n",
    "# merged_set = set1 | set2 | set3\n",
    "\n",
    "# Print the merged set\n",
    "print(merged_set)"
   ]
  },
  {
   "cell_type": "code",
   "execution_count": null,
   "id": "53ddf764-8600-44d1-9cf9-230e90987be1",
   "metadata": {},
   "outputs": [],
   "source": []
  }
 ],
 "metadata": {
  "kernelspec": {
   "display_name": "Python 3 (ipykernel)",
   "language": "python",
   "name": "python3"
  },
  "language_info": {
   "codemirror_mode": {
    "name": "ipython",
    "version": 3
   },
   "file_extension": ".py",
   "mimetype": "text/x-python",
   "name": "python",
   "nbconvert_exporter": "python",
   "pygments_lexer": "ipython3",
   "version": "3.10.8"
  }
 },
 "nbformat": 4,
 "nbformat_minor": 5
}
